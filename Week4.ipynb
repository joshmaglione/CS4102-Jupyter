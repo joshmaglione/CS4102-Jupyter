{
 "cells": [
  {
   "cell_type": "markdown",
   "metadata": {},
   "source": [
    "# Week 4: An Introduction to PCA\n",
    "\n",
    "## Goals\n",
    "- Learn about Python functions\n",
    "- See PCA in action"
   ]
  },
  {
   "cell_type": "markdown",
   "metadata": {},
   "source": [
    "### Example from the lecture\n",
    "\n",
    "Let's look at the example from earlier.\n",
    "\n",
    "Instead of loading and plotting like we have done before, let's build a Python function to automate this."
   ]
  },
  {
   "cell_type": "markdown",
   "metadata": {},
   "source": [
    "#### Python functions (def)\n",
    "\n",
    "In Python, we use `def` to indicate the start of a function. \n",
    "\n",
    "The subsequent lines in the function *must* be indented. The amount of space does not matter, but must be consistent. "
   ]
  },
  {
   "cell_type": "code",
   "execution_count": null,
   "metadata": {},
   "outputs": [],
   "source": [
    "def MyFunction(x):      # first line 'def NAME(<input>):'\n",
    "    return x + 1        # last line usually 'return <output>' "
   ]
  },
  {
   "cell_type": "markdown",
   "metadata": {},
   "source": [
    "Similar to an example from last week \"`lambda x: x + 1`\""
   ]
  },
  {
   "cell_type": "code",
   "execution_count": null,
   "metadata": {},
   "outputs": [],
   "source": [
    "MyFunction(3)"
   ]
  },
  {
   "cell_type": "code",
   "execution_count": null,
   "metadata": {},
   "outputs": [],
   "source": [
    "MyFunction(3.1415)\n",
    "# MyFunction(\"one\")"
   ]
  },
  {
   "cell_type": "markdown",
   "metadata": {},
   "source": [
    "We can make more complicated functions by including more lines."
   ]
  },
  {
   "cell_type": "code",
   "execution_count": null,
   "metadata": {},
   "outputs": [],
   "source": [
    "def GetWord(s, i):                      # Two input variables: s and i\n",
    "    s_clean = s.replace('.', '')        # Remove '.' from string s\n",
    "    words = s_clean.split(' ')          # Cut string s_clean into substrings\n",
    "    return words[i]                     # Output the ith word"
   ]
  },
  {
   "cell_type": "code",
   "execution_count": null,
   "metadata": {},
   "outputs": [],
   "source": [
    "GetWord(\"Nitwit. Blubber. Oddment. Tweak.\", 1)"
   ]
  },
  {
   "cell_type": "code",
   "execution_count": null,
   "metadata": {},
   "outputs": [],
   "source": [
    "GetWord(\"Repetition legitimizes. Repetition legitimizes.\", 2)"
   ]
  },
  {
   "cell_type": "markdown",
   "metadata": {},
   "source": [
    "---\n",
    "\n",
    "Back to the goal at hand. We want a function that accomplishes the following.\n",
    "\n",
    "**INPUT:** a pandas data frame representing two columns (ind. then dep.) of data\n",
    "\n",
    "**OUTPUT:** a `matplotlib` plot of the data.\n",
    "\n",
    "We will do this in 2 stages."
   ]
  },
  {
   "cell_type": "code",
   "execution_count": null,
   "metadata": {},
   "outputs": [],
   "source": [
    "import pandas as pd\n",
    "\n",
    "def plot_dataframe(df):\n",
    "    import matplotlib.pyplot as plt         # locally load matplotlib\n",
    "    \n",
    "    print(df)\n",
    "    pass\n",
    "\n",
    "plot_dataframe(pd.read_csv(\"data/pcadata.csv\"))"
   ]
  },
  {
   "cell_type": "markdown",
   "metadata": {},
   "source": [
    "Now let's get the column names with `df.columns.values`."
   ]
  },
  {
   "cell_type": "code",
   "execution_count": null,
   "metadata": {},
   "outputs": [],
   "source": [
    "def plot_dataframe(df):\n",
    "    import matplotlib.pyplot as plt\n",
    "\n",
    "    cvals = df.columns.values               # get the column headers \n",
    "    print(cvals)\n",
    "    pass\n",
    "\n",
    "plot_dataframe(pd.read_csv(\"data/pcadata.csv\"))"
   ]
  },
  {
   "cell_type": "markdown",
   "metadata": {},
   "source": [
    "Now we can build the plot within the function."
   ]
  },
  {
   "cell_type": "code",
   "execution_count": null,
   "metadata": {},
   "outputs": [],
   "source": [
    "def plot_dataframe(df):\n",
    "    import matplotlib.pyplot as plt         # locally load matplotlib\n",
    "\n",
    "    cvals = df.columns.values               # get the column headers \n",
    "    fig, ax = plt.subplots()\n",
    "    ax.scatter(df[cvals[0]], df[cvals[1]], c=\"blue\")\n",
    "    ax.grid()\n",
    "    ax.set_xlabel(cvals[0])                 \n",
    "    ax.set_ylabel(cvals[1])\n",
    "    return fig"
   ]
  },
  {
   "cell_type": "markdown",
   "metadata": {},
   "source": [
    "Let's load the data for our initial PCA example."
   ]
  },
  {
   "cell_type": "code",
   "execution_count": null,
   "metadata": {},
   "outputs": [],
   "source": [
    "fig = plot_dataframe(pd.read_csv(\"data/pcadata.csv\"))"
   ]
  },
  {
   "cell_type": "markdown",
   "metadata": {},
   "source": [
    "**Challenge:** In class, I displayed a graph where the plot's grids were $1\\times 1$ squares. Can you achieve this? "
   ]
  },
  {
   "cell_type": "markdown",
   "metadata": {},
   "source": [
    "Now let's load the data, build the matrix $X$, and construct its covariance matrix $C_X$. \n",
    "\n",
    "Recall that $x_1, \\dots, x_n \\in \\R^m$ are our data points (as column vectors), so\n",
    "$$ \n",
    "\\begin{aligned}\n",
    "    X &= \\begin{pmatrix}\n",
    "        x_1 & x_2 & \\cdots & x_n \n",
    "    \\end{pmatrix}, \\\\\n",
    "    C_X &= \\dfrac{1}{n} XX^{\\mathrm{t}}. \n",
    "\\end{aligned}\n",
    "$$"
   ]
  },
  {
   "cell_type": "code",
   "execution_count": null,
   "metadata": {},
   "outputs": [],
   "source": [
    "import pandas as pd \n",
    "import numpy as np"
   ]
  },
  {
   "cell_type": "code",
   "execution_count": null,
   "metadata": {},
   "outputs": [],
   "source": [
    "df = pd.read_csv(\"data/pcadata.csv\")\n",
    "X = np.array(df).T\n",
    "print(X.shape)"
   ]
  },
  {
   "cell_type": "code",
   "execution_count": null,
   "metadata": {},
   "outputs": [],
   "source": [
    "C_X = X @ X.T / len(df)\n",
    "print(C_X)"
   ]
  },
  {
   "cell_type": "code",
   "execution_count": null,
   "metadata": {},
   "outputs": [],
   "source": [
    "E = np.linalg.eig(C_X)\n",
    "P = -E.eigenvectors @ np.array([[0,1],[1,0]])\n",
    "print(P)\n",
    "print(np.linalg.det(P))"
   ]
  },
  {
   "cell_type": "code",
   "execution_count": null,
   "metadata": {},
   "outputs": [],
   "source": [
    "Y = P @ X \n",
    "df2 = pd.DataFrame({\n",
    "    \"PC1\" : Y[0], \n",
    "    \"PC2\" : Y[1]\n",
    "})\n",
    "fig = plot_dataframe(df2)"
   ]
  },
  {
   "cell_type": "markdown",
   "metadata": {},
   "source": [
    "**Note:** If you think this makes the data look worse, consider 'standardising' the grid in `plot_dataframe`. "
   ]
  },
  {
   "cell_type": "markdown",
   "metadata": {},
   "source": []
  }
 ],
 "metadata": {
  "kernelspec": {
   "display_name": "Python 3",
   "language": "python",
   "name": "python3"
  },
  "language_info": {
   "codemirror_mode": {
    "name": "ipython",
    "version": 3
   },
   "file_extension": ".py",
   "mimetype": "text/x-python",
   "name": "python",
   "nbconvert_exporter": "python",
   "pygments_lexer": "ipython3",
   "version": "3.11.3"
  },
  "orig_nbformat": 4
 },
 "nbformat": 4,
 "nbformat_minor": 2
}
