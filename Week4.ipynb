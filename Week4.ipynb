{
 "cells": [
  {
   "cell_type": "markdown",
   "metadata": {},
   "source": [
    "# Week 4: An Introduction to PCA\n",
    "\n",
    "## Goals\n",
    "- Learn about Python functions\n",
    "- See PCA in action"
   ]
  },
  {
   "cell_type": "markdown",
   "metadata": {},
   "source": [
    "### Example from the lecture\n",
    "\n",
    "Let's look at the example from earlier.\n",
    "\n",
    "Instead of loading and plotting like we have done before, let's build a Python function to automate this."
   ]
  },
  {
   "cell_type": "markdown",
   "metadata": {},
   "source": [
    "#### Python functions (def)\n",
    "\n",
    "In Python, we use `def` to indicate the start of a function. \n",
    "\n",
    "The subsequent lines in the function *must* be indented. The amount of space does not matter, but must be consistent. "
   ]
  },
  {
   "cell_type": "code",
   "execution_count": null,
   "metadata": {},
   "outputs": [],
   "source": [
    "def MyFunction(x):      # first line 'def NAME(<input>):'\n",
    "    return x + 1        # last line usually 'return <output>' "
   ]
  },
  {
   "cell_type": "markdown",
   "metadata": {},
   "source": [
    "Similar to an example from last week \"`lambda x: x + 1`\""
   ]
  },
  {
   "cell_type": "code",
   "execution_count": null,
   "metadata": {},
   "outputs": [],
   "source": [
    "MyFunction(3)"
   ]
  },
  {
   "cell_type": "code",
   "execution_count": null,
   "metadata": {},
   "outputs": [],
   "source": [
    "MyFunction(3.1415)\n",
    "# MyFunction(\"one\")"
   ]
  },
  {
   "cell_type": "markdown",
   "metadata": {},
   "source": [
    "We can make more complicated functions by including more lines."
   ]
  },
  {
   "cell_type": "code",
   "execution_count": null,
   "metadata": {},
   "outputs": [],
   "source": [
    "def GetWord(s, i):                      # Two input variables: s and i\n",
    "    s_clean = s.replace('.', '')        # Remove '.' from string s\n",
    "    words = s_clean.split(' ')          # Cut string s_clean into substrings\n",
    "    return words[i]                     # Output the ith word"
   ]
  },
  {
   "cell_type": "code",
   "execution_count": null,
   "metadata": {},
   "outputs": [],
   "source": [
    "GetWord(\"Nitwit. Blubber. Oddment. Tweak.\", 1)"
   ]
  },
  {
   "cell_type": "code",
   "execution_count": null,
   "metadata": {},
   "outputs": [],
   "source": [
    "GetWord(\"Repetition legitimizes. Repetition legitimizes.\", 2)"
   ]
  },
  {
   "cell_type": "markdown",
   "metadata": {},
   "source": [
    "---\n",
    "\n",
    "Back to the goal at hand. We want a function that accomplishes the following.\n",
    "\n",
    "**INPUT:** a pandas data frame representing two columns (ind. then dep.) of data\n",
    "\n",
    "**OUTPUT:** a `matplotlib` plot of the data including the mean point.\n",
    "\n",
    "We will do this in 2 stages."
   ]
  },
  {
   "cell_type": "code",
   "execution_count": null,
   "metadata": {},
   "outputs": [],
   "source": [
    "import pandas as pd\n",
    "\n",
    "def plot_dataframe(df):\n",
    "    import matplotlib.pyplot as plt         # locally load matplotlib\n",
    "    \n",
    "    print(df)\n",
    "    pass\n",
    "\n",
    "df = pd.read_csv(\"data/pcadata.csv\")\n",
    "plot_dataframe(df)"
   ]
  },
  {
   "cell_type": "markdown",
   "metadata": {},
   "source": [
    "Now let's get the column names with `df.columns.values`."
   ]
  },
  {
   "cell_type": "code",
   "execution_count": null,
   "metadata": {},
   "outputs": [],
   "source": [
    "def plot_dataframe(df):\n",
    "    import matplotlib.pyplot as plt\n",
    "\n",
    "    cvals = df.columns.values               # get the column headers \n",
    "    print(cvals)\n",
    "    xbar = sum(df[cvals[0]]) / len(df)      # mean of x-values\n",
    "    ybar = sum(df[cvals[1]]) / len(df)      # mean of y-values\n",
    "    print(\"mean : ({0}, {1})\".format(xbar, ybar))\n",
    "    pass\n",
    "\n",
    "df = pd.read_csv(\"data/pcadata.csv\")\n",
    "plot_dataframe(df)"
   ]
  },
  {
   "cell_type": "markdown",
   "metadata": {},
   "source": [
    "Now we can build the plot within the function."
   ]
  },
  {
   "cell_type": "code",
   "execution_count": null,
   "metadata": {},
   "outputs": [],
   "source": [
    "def plot_dataframe(df):\n",
    "    import matplotlib.pyplot as plt         # locally load matplotlib\n",
    "\n",
    "    cvals = df.columns.values               # get the column headers \n",
    "    xbar = sum(df[cvals[0]]) / len(df)\n",
    "    ybar = sum(df[cvals[1]]) / len(df) \n",
    "    fig, ax = plt.subplots()\n",
    "    ax.scatter(df[cvals[0]], df[cvals[1]], c=\"blue\", zorder=2)\n",
    "    ax.scatter([xbar], [ybar], marker='x', c=\"red\", zorder=3)\n",
    "    ax.grid()\n",
    "    ax.set_xlabel(cvals[0])                 \n",
    "    ax.set_ylabel(cvals[1])\n",
    "    return fig"
   ]
  },
  {
   "cell_type": "markdown",
   "metadata": {},
   "source": [
    "Let's load the data for our initial PCA example."
   ]
  },
  {
   "cell_type": "code",
   "execution_count": null,
   "metadata": {},
   "outputs": [],
   "source": [
    "df = pd.read_csv(\"data/pcadata.csv\")\n",
    "fig = plot_dataframe(df)"
   ]
  },
  {
   "cell_type": "markdown",
   "metadata": {},
   "source": [
    "**Challenge:** In class, I displayed a graph where the plot's grids were $1\\times 1$ squares. Can you achieve this? "
   ]
  },
  {
   "cell_type": "markdown",
   "metadata": {},
   "source": [
    "Now let's load the data, build the matrix $X$, and construct its covariance matrix $C_X$. \n",
    "\n",
    "Recall that $x_1, \\dots, x_n \\in \\R^m$ are our data points (as column vectors), so\n",
    "$$ \n",
    "\\begin{aligned}\n",
    "    X &= \\begin{pmatrix}\n",
    "        x_1 & x_2 & \\cdots & x_n \n",
    "    \\end{pmatrix}, \\\\\n",
    "    C_X &= \\dfrac{1}{n} XX^{\\mathrm{t}}. \n",
    "\\end{aligned}\n",
    "$$"
   ]
  },
  {
   "cell_type": "code",
   "execution_count": null,
   "metadata": {},
   "outputs": [],
   "source": [
    "import pandas as pd \n",
    "import numpy as np"
   ]
  },
  {
   "cell_type": "code",
   "execution_count": null,
   "metadata": {},
   "outputs": [],
   "source": [
    "df = pd.read_csv(\"data/pcadata.csv\")\n",
    "Z = np.array(df).T                      # Not normalized\n",
    "print(Z.shape)"
   ]
  },
  {
   "cell_type": "markdown",
   "metadata": {},
   "source": [
    "We need the mean to be $(0,0)\\in\\R^2$, so let's do that."
   ]
  },
  {
   "cell_type": "code",
   "execution_count": null,
   "metadata": {},
   "outputs": [],
   "source": [
    "m1bar = sum(Z[0]) / len(Z[0])\n",
    "m2bar = sum(Z[1]) / len(Z[1])\n",
    "M = np.array([\n",
    "    [m1bar] * len(df),\n",
    "    [m2bar] * len(df)\n",
    "])\n",
    "X = Z - M "
   ]
  },
  {
   "cell_type": "code",
   "execution_count": null,
   "metadata": {},
   "outputs": [],
   "source": [
    "C_X = X @ X.T / len(df)\n",
    "print(C_X)"
   ]
  },
  {
   "cell_type": "code",
   "execution_count": null,
   "metadata": {},
   "outputs": [],
   "source": [
    "E = np.linalg.eig(C_X)\n",
    "P = -E.eigenvectors @ np.array([[0,1],[1,0]])\n",
    "print(P)\n",
    "print(np.linalg.det(P))"
   ]
  },
  {
   "cell_type": "code",
   "execution_count": null,
   "metadata": {},
   "outputs": [],
   "source": [
    "Y = P @ X \n",
    "df2 = pd.DataFrame({\n",
    "    \"PC1\" : Y[0], \n",
    "    \"PC2\" : Y[1]\n",
    "})\n",
    "fig = plot_dataframe(df2)"
   ]
  },
  {
   "cell_type": "markdown",
   "metadata": {},
   "source": [
    "**Note:** If you think this makes the data look worse, consider 'standardising' the grid in `plot_dataframe`. "
   ]
  },
  {
   "cell_type": "markdown",
   "metadata": {},
   "source": [
    "### PCA on some 'real' data\n",
    "\n",
    "Nothing really is chaning, but perhaps now the data has some context.\n",
    "\n",
    "If you want some 'real' data sets, one can peruse [kaggle.com]()"
   ]
  },
  {
   "cell_type": "markdown",
   "metadata": {},
   "source": [
    "We will take some [data concerning sustainability](https://www.kaggle.com/datasets/anshtanwar/global-data-on-sustainable-energy?resource=download) from kaggle. This is provided by [Ansh Tanwar](https://www.kaggle.com/anshtanwar) ([CC BY 4.0](https://creativecommons.org/licenses/by/4.0/))\n",
    "\n",
    "I cannot provide \"hard corded\" data, so in order to run these examples, you will need to download something---either on Canvas, GitHub, or Kaggle itself (need an account for Kaggle)."
   ]
  },
  {
   "cell_type": "markdown",
   "metadata": {},
   "source": [
    "Let's load the data set into Python"
   ]
  },
  {
   "cell_type": "code",
   "execution_count": null,
   "metadata": {},
   "outputs": [],
   "source": [
    "df = pd.read_csv(\"data/global-data-on-sustainable-energy.csv\")\n",
    "print(df.columns.values)\n",
    "print(df)"
   ]
  },
  {
   "cell_type": "markdown",
   "metadata": {},
   "source": [
    "Take all the rows with `Entity` equal to `Ireland`."
   ]
  },
  {
   "cell_type": "code",
   "execution_count": null,
   "metadata": {},
   "outputs": [],
   "source": [
    "df_ie = df.loc[df[\"Entity\"] == \"Ireland\"] \n",
    "df_ie"
   ]
  },
  {
   "cell_type": "code",
   "execution_count": null,
   "metadata": {},
   "outputs": [],
   "source": [
    "Z = np.array([\n",
    "    df_ie[\"Electricity from fossil fuels (TWh)\"],\n",
    "    df_ie[\"Electricity from renewables (TWh)\"],\n",
    "    df_ie[\"Primary energy consumption per capita (kWh/person)\"],\n",
    "    df_ie[\"gdp_per_capita\"]\n",
    "]).T\n",
    "print(Z)"
   ]
  },
  {
   "cell_type": "markdown",
   "metadata": {},
   "source": [
    "Data are in vastly different scales: 10s, 1s, 10000s, and 10000s. We \"rescale\"."
   ]
  },
  {
   "cell_type": "code",
   "execution_count": null,
   "metadata": {},
   "outputs": [],
   "source": [
    "from sklearn.preprocessing import StandardScaler\n",
    "\n",
    "scaler = StandardScaler()\n",
    "scaler.fit(Z)\n",
    "print(scaler.mean_)\n",
    "X = scaler.transform(Z).T\n",
    "print(X.T)"
   ]
  },
  {
   "cell_type": "code",
   "execution_count": null,
   "metadata": {},
   "outputs": [],
   "source": [
    "C_X = X @ X.T / X.shape[1]\n",
    "print(C_X)"
   ]
  },
  {
   "cell_type": "code",
   "execution_count": null,
   "metadata": {},
   "outputs": [],
   "source": [
    "E = np.linalg.eig(C_X)\n",
    "print(E.eigenvalues)"
   ]
  },
  {
   "cell_type": "markdown",
   "metadata": {},
   "source": [
    "The first principal component is by far the most important (highest value)."
   ]
  },
  {
   "cell_type": "markdown",
   "metadata": {},
   "source": [
    "First two principal components account for about $93\\%$ of our variance."
   ]
  },
  {
   "cell_type": "code",
   "execution_count": null,
   "metadata": {},
   "outputs": [],
   "source": [
    "sum(E.eigenvalues[:2])/4"
   ]
  },
  {
   "cell_type": "markdown",
   "metadata": {},
   "source": [
    "And the first three PC accont for about $99\\%$ of the variance."
   ]
  },
  {
   "cell_type": "code",
   "execution_count": null,
   "metadata": {},
   "outputs": [],
   "source": [
    "sum(E.eigenvalues[:3])/4"
   ]
  },
  {
   "cell_type": "markdown",
   "metadata": {},
   "source": [
    "Let's see what we can glean. Recall our variables are \n",
    "1. Electricity from fossil fuels (TWh)\n",
    "2. Electricity from renewables (TWh)\n",
    "3. Primary energy consumption per capita (kWh/person)\n",
    "4. GDP per capita\n",
    "\n",
    "Recall the PC1 was most significant, but the first two yield a lot of information."
   ]
  },
  {
   "cell_type": "code",
   "execution_count": null,
   "metadata": {},
   "outputs": [],
   "source": [
    "P = E.eigenvectors \n",
    "# print(P.T @ C_X @ P)        # Sanity check \n",
    "print(P)"
   ]
  },
  {
   "cell_type": "markdown",
   "metadata": {},
   "source": [
    "One might make the following conclusions from the first column alone:\n",
    "- variables (1) and (3) are positively correlated, \n",
    "- variables (2) and (4) are positively correlated,\n",
    "- variables (1) and (2) are negatively correlated.\n",
    "\n",
    "These findings do not apply to second column for example."
   ]
  }
 ],
 "metadata": {
  "kernelspec": {
   "display_name": "Python 3",
   "language": "python",
   "name": "python3"
  },
  "language_info": {
   "codemirror_mode": {
    "name": "ipython",
    "version": 3
   },
   "file_extension": ".py",
   "mimetype": "text/x-python",
   "name": "python",
   "nbconvert_exporter": "python",
   "pygments_lexer": "ipython3",
   "version": "3.11.3"
  },
  "orig_nbformat": 4
 },
 "nbformat": 4,
 "nbformat_minor": 2
}
