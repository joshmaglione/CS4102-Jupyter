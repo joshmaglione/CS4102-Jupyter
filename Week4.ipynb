{
 "cells": [
  {
   "cell_type": "markdown",
   "metadata": {},
   "source": [
    "# Week 4: An Introduction to PCA\n",
    "\n",
    "## Goals\n",
    "- Learn about Python functions\n",
    "- See PCA in action"
   ]
  },
  {
   "cell_type": "markdown",
   "metadata": {},
   "source": [
    "### Example from the lecture\n",
    "\n",
    "Let's look at the example from earlier.\n",
    "\n",
    "Instead of loading and plotting like we have done before, let's build a Python function to automate this."
   ]
  },
  {
   "cell_type": "markdown",
   "metadata": {},
   "source": [
    "#### Python functions (def)\n",
    "\n",
    "In Python, we use `def` to indicate the start of a function. \n",
    "\n",
    "The subsequent lines in the function *must* be indented. The amount of space does not matter, but must be consistent. "
   ]
  },
  {
   "cell_type": "code",
   "execution_count": 2,
   "metadata": {},
   "outputs": [],
   "source": [
    "def MyFunction(x):      # first line 'def NAME(<input>):'\n",
    "    return x + 1        # last line usually 'return <output>' "
   ]
  },
  {
   "cell_type": "markdown",
   "metadata": {},
   "source": [
    "Similar to an example from last week \"`lambda x: x + 1`\""
   ]
  },
  {
   "cell_type": "code",
   "execution_count": 3,
   "metadata": {},
   "outputs": [
    {
     "data": {
      "text/plain": [
       "4"
      ]
     },
     "execution_count": 3,
     "metadata": {},
     "output_type": "execute_result"
    }
   ],
   "source": [
    "MyFunction(3)"
   ]
  },
  {
   "cell_type": "code",
   "execution_count": 5,
   "metadata": {},
   "outputs": [
    {
     "data": {
      "text/plain": [
       "4.141500000000001"
      ]
     },
     "execution_count": 5,
     "metadata": {},
     "output_type": "execute_result"
    }
   ],
   "source": [
    "MyFunction(3.1415)\n",
    "# MyFunction(\"one\")"
   ]
  },
  {
   "cell_type": "markdown",
   "metadata": {},
   "source": [
    "We can make more complicated functions by including more lines."
   ]
  },
  {
   "cell_type": "code",
   "execution_count": 6,
   "metadata": {},
   "outputs": [],
   "source": [
    "def GetWord(s, i):                      # Two input variables: s and i\n",
    "    s_clean = s.replace('.', '')        # Remove '.' from string s\n",
    "    words = s_clean.split(' ')          # Cut string s_clean into substrings\n",
    "    return words[i]                     # Output the ith word"
   ]
  },
  {
   "cell_type": "code",
   "execution_count": 10,
   "metadata": {},
   "outputs": [
    {
     "data": {
      "text/plain": [
       "'Blubber'"
      ]
     },
     "execution_count": 10,
     "metadata": {},
     "output_type": "execute_result"
    }
   ],
   "source": [
    "GetWord(\"Nitwit. Blubber. Oddment. Tweak.\", 1)"
   ]
  },
  {
   "cell_type": "code",
   "execution_count": 11,
   "metadata": {},
   "outputs": [
    {
     "data": {
      "text/plain": [
       "'Repetition'"
      ]
     },
     "execution_count": 11,
     "metadata": {},
     "output_type": "execute_result"
    }
   ],
   "source": [
    "GetWord(\"Repetition legitimizes. Repetition legitimizes.\", 2)"
   ]
  },
  {
   "cell_type": "markdown",
   "metadata": {},
   "source": [
    "Back to the goal at hand. We want a function that accomplishes the following.\n",
    "\n",
    "**INPUT:** a CSV file name (`str`) representing two columns (ind. then dep.) of data\n",
    "\n",
    "**OUTPUT:** a `matplotlib` plot of the data."
   ]
  },
  {
   "cell_type": "code",
   "execution_count": null,
   "metadata": {},
   "outputs": [],
   "source": []
  }
 ],
 "metadata": {
  "kernelspec": {
   "display_name": "Python 3",
   "language": "python",
   "name": "python3"
  },
  "language_info": {
   "codemirror_mode": {
    "name": "ipython",
    "version": 3
   },
   "file_extension": ".py",
   "mimetype": "text/x-python",
   "name": "python",
   "nbconvert_exporter": "python",
   "pygments_lexer": "ipython3",
   "version": "3.11.3"
  },
  "orig_nbformat": 4
 },
 "nbformat": 4,
 "nbformat_minor": 2
}
