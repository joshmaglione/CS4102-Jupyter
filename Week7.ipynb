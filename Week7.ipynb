{
 "cells": [
  {
   "cell_type": "markdown",
   "metadata": {},
   "source": [
    "# Week 7: More PCA\n",
    "\n",
    "## Goals:\n",
    "- Basics of LaTeX and Markdown\n",
    "- More PCA"
   ]
  },
  {
   "cell_type": "markdown",
   "metadata": {},
   "source": [
    "## Problem set 1\n",
    "\n",
    "Let's briefly talk about problem set 1."
   ]
  },
  {
   "cell_type": "markdown",
   "metadata": {},
   "source": [
    "## LaTeX\n",
    "\n",
    "![](graphics/LaTeX_project_logo_bird.png)\n",
    "\n",
    "<font size=\"-2\">\n",
    "© Jonas Jacek <a href=\"https://creativecommons.org/licenses/by/4.0/\">CC-BY-4.0</a>\n",
    "</font>\n",
    "\n",
    "[$\\LaTeX$](https://en.wikipedia.org/wiki/LaTeX) is the main typesetting system for typing mathematics. Pronounced either \"law-tech\" or \"lay-tech\".\n",
    "\n",
    "Virtually all typed mathematics now is using Latex. People in physics and computer science also use Latex.\n",
    "\n",
    "**Basic idea:**\n",
    " \n",
    "Write $\\TeX$ or $\\LaTeX$ code in a `tex` file. Compile to produce a `pdf` file.\n",
    "\n",
    "A basic example is something like"
   ]
  },
  {
   "cell_type": "markdown",
   "metadata": {},
   "source": [
    "---\n",
    "\n",
    "```latex\n",
    "\\documentclass{article}         % Always at start\n",
    "\n",
    "% Additional packages\n",
    "\\usepackage{amsmath}\n",
    "\n",
    "% Additional preamble code \n",
    "\n",
    "\\begin{document}                % Required\n",
    "\n",
    "Here is where you put content.\n",
    "\n",
    "\\end{document}                  % Always at the end\n",
    "```\n",
    "\n",
    "---"
   ]
  },
  {
   "cell_type": "markdown",
   "metadata": {},
   "source": [
    "Simply put, Latex enables one to write very complicated formulae with ease.\n",
    "\n",
    "<img src=\"graphics/corollary.png\" width=800></img>"
   ]
  },
  {
   "cell_type": "markdown",
   "metadata": {},
   "source": [
    "**Note** to compile `latex` code on the web (e.g. via `html`), there are two standards: [MathJax](https://en.wikipedia.org/wiki/MathJax) and [KaTeX](https://en.wikipedia.org/wiki/KaTeX). I prefer KaTeX, but it is limited compared to MathJax. "
   ]
  },
  {
   "cell_type": "markdown",
   "metadata": {},
   "source": [
    "## Markdown\n",
    "\n",
    "![](graphics/Markdown-mark.png)\n",
    "\n",
    "<font size=\"-2\">\n",
    "Dustin Curtis <a href=\"https://creativecommons.org/publicdomain/zero/1.0/deed.en\">CC0</a>\n",
    "</font>\n"
   ]
  },
  {
   "cell_type": "markdown",
   "metadata": {},
   "source": [
    "[Markdown](https://en.wikipedia.org/wiki/Markdown) is a markup language for creating formatted text, most commonly `html`.\n",
    "\n",
    "Used in blogs and websites, GitHub (e.g. README file), Jupyter notebooks, and more.\n",
    "\n",
    "I use it as an \"`html` lite\" and a \"$\\LaTeX$ lite\". For example, my website is written primarily in markdown (gets converted to `html`).\n",
    "\n",
    "One can do very simple html-styled formatting with very little code.\n",
    "\n",
    "---\n",
    "\n",
    "Code:\n",
    "```markdown\n",
    "The font can be **emboldened** or *italicised*.\n",
    "```\n",
    "\n",
    "Output:\n",
    "\n",
    "The font can be **emboldened** or *italicised*.\n",
    "\n",
    "---"
   ]
  },
  {
   "cell_type": "markdown",
   "metadata": {},
   "source": [
    "Code:\n",
    "```markdown\n",
    "1. First item\n",
    "1. Second item\n",
    "42. Third item\n",
    "```\n",
    "\n",
    "Output:\n",
    "1. First item\n",
    "1. Second item\n",
    "42. Third item\n",
    "    \n",
    "---"
   ]
  },
  {
   "cell_type": "markdown",
   "metadata": {},
   "source": [
    "Code:\n",
    "```markdown\n",
    "- red item\n",
    "- blue items\n",
    "  - one blue item\n",
    "  - another blue item\n",
    "```\n",
    "\n",
    "Output:\n",
    "- red item\n",
    "- blue items\n",
    "  - one blue item\n",
    "  - another blue item\n",
    "  \n",
    "---"
   ]
  },
  {
   "cell_type": "markdown",
   "metadata": {},
   "source": [
    "One can sometimes write (simple) latex code in markdown.\n",
    "\n",
    "Code:\n",
    "```markdown\n",
    "We define a function $f(x) : \\mathbb{R} \\to \\mathbb{R}_{> 0}$ given by\n",
    "$$\n",
    "    x \\mapsto e^{x^2}. \n",
    "$$\n",
    "```\n",
    "\n",
    "Output:\n",
    "\n",
    "We define a function $f(x) : \\mathbb{R} \\to \\mathbb{R}_{> 0}$ given by\n",
    "$$\n",
    "    x \\mapsto e^{x^2}. \n",
    "$$\n",
    "\n",
    "---"
   ]
  },
  {
   "cell_type": "markdown",
   "metadata": {},
   "source": [
    "One can also align equations so that they can be easily read:\n",
    "\n",
    "Code:\n",
    "```markdown\n",
    "$$\n",
    "\\begin{aligned}\n",
    "    1 &= \\sqrt{1} \\\\\n",
    "    &= \\sqrt{(-1)\\cdot (-1)} \\\\\n",
    "    &= \\sqrt{-1} \\cdot \\sqrt{-1} \\\\\n",
    "    &= i \\cdot i \\\\\n",
    "    &= -1.\n",
    "\\end{aligned}\n",
    "$$\n",
    "```\n",
    "\n",
    "Output:\n",
    "$$\n",
    "\\begin{aligned}\n",
    "    1 &= \\sqrt{1} \\\\\n",
    "    &= \\sqrt{(-1)\\cdot (-1)} \\\\\n",
    "    &= \\sqrt{-1} \\cdot \\sqrt{-1} \\\\\n",
    "    &= i \\cdot i \\\\\n",
    "    &= -1.\n",
    "\\end{aligned}\n",
    "$$\n",
    "\n",
    "---"
   ]
  },
  {
   "cell_type": "markdown",
   "metadata": {},
   "source": [
    "## Back to Python computations"
   ]
  },
  {
   "cell_type": "markdown",
   "metadata": {},
   "source": []
  }
 ],
 "metadata": {
  "kernelspec": {
   "display_name": "Python 3",
   "language": "python",
   "name": "python3"
  },
  "language_info": {
   "codemirror_mode": {
    "name": "ipython",
    "version": 3
   },
   "file_extension": ".py",
   "mimetype": "text/x-python",
   "name": "python",
   "nbconvert_exporter": "python",
   "pygments_lexer": "ipython3",
   "version": "3.12.0"
  }
 },
 "nbformat": 4,
 "nbformat_minor": 2
}
