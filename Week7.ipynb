{
 "cells": [
  {
   "cell_type": "markdown",
   "metadata": {},
   "source": [
    "# Week 7: More PCA\n",
    "\n",
    "## Goals:\n",
    "- Basics of LaTeX and Markdown\n",
    "- More PCA"
   ]
  },
  {
   "cell_type": "markdown",
   "metadata": {},
   "source": [
    "## Problem set 1\n",
    "\n",
    "Let's briefly talk about problem set 1."
   ]
  },
  {
   "cell_type": "markdown",
   "metadata": {},
   "source": [
    "## LaTeX\n",
    "\n",
    "![](graphics/LaTeX_project_logo_bird.png)\n",
    "\n",
    "<font size=\"-2\">\n",
    "© Jonas Jacek <a href=\"https://creativecommons.org/licenses/by/4.0/\">CC-BY-4.0</a>\n",
    "</font>\n",
    "\n",
    "[$\\LaTeX$](https://en.wikipedia.org/wiki/LaTeX) is the main typesetting system for typing mathematics. Pronounced either \"law-tech\" or \"lay-tech\".\n",
    "\n",
    "Virtually all typed mathematics now is using Latex. People in physics and computer science also use Latex.\n",
    "\n",
    "**Basic idea:**\n",
    " \n",
    "Write $\\TeX$ or $\\LaTeX$ code in a `tex` file. Compile to produce a `pdf` file.\n",
    "\n",
    "A basic example is something like"
   ]
  },
  {
   "cell_type": "markdown",
   "metadata": {},
   "source": [
    "---\n",
    "\n",
    "```latex\n",
    "\\documentclass{article}         % Always at start\n",
    "\n",
    "% Additional packages\n",
    "\\usepackage{amsmath}\n",
    "\n",
    "% Additional preamble code \n",
    "\n",
    "\\begin{document}                % Required\n",
    "\n",
    "Here is where you put content.\n",
    "\n",
    "\\end{document}                  % Always at the end\n",
    "```\n",
    "\n",
    "---"
   ]
  },
  {
   "cell_type": "markdown",
   "metadata": {},
   "source": [
    "Simply put, Latex enables one to write very complicated formulae with ease.\n",
    "\n",
    "<img src=\"graphics/corollary.png\" width=800></img>"
   ]
  },
  {
   "cell_type": "markdown",
   "metadata": {},
   "source": [
    "**Note** to compile `latex` code on the web (e.g. via `html`), there are two standards: [MathJax](https://en.wikipedia.org/wiki/MathJax) and [KaTeX](https://en.wikipedia.org/wiki/KaTeX). I prefer KaTeX, but it is limited compared to MathJax. "
   ]
  },
  {
   "cell_type": "markdown",
   "metadata": {},
   "source": [
    "## Markdown\n",
    "\n",
    "![](graphics/Markdown-mark.png)\n",
    "\n",
    "<font size=\"-2\">\n",
    "Dustin Curtis <a href=\"https://creativecommons.org/publicdomain/zero/1.0/deed.en\">CC0</a>\n",
    "</font>\n"
   ]
  },
  {
   "cell_type": "markdown",
   "metadata": {},
   "source": [
    "[Markdown](https://en.wikipedia.org/wiki/Markdown) is a markup language for creating formatted text, most commonly `html`.\n",
    "\n",
    "Used in blogs and websites, GitHub (e.g. README file), Jupyter notebooks, and more.\n",
    "\n",
    "I use it as an \"`html` lite\" and a \"$\\LaTeX$ lite\". For example, my website is written primarily in markdown (gets converted to `html`).\n",
    "\n",
    "One can do very simple html-styled formatting with very little code.\n",
    "\n",
    "---\n",
    "\n",
    "Code:\n",
    "```markdown\n",
    "The font can be **emboldened** or *italicised*.\n",
    "```\n",
    "\n",
    "Output:\n",
    "\n",
    "The font can be **emboldened** or *italicised*.\n",
    "\n",
    "---"
   ]
  },
  {
   "cell_type": "markdown",
   "metadata": {},
   "source": [
    "Code:\n",
    "```markdown\n",
    "1. First item\n",
    "1. Second item\n",
    "42. Third item\n",
    "```\n",
    "\n",
    "Output:\n",
    "1. First item\n",
    "1. Second item\n",
    "42. Third item\n",
    "    \n",
    "---"
   ]
  },
  {
   "cell_type": "markdown",
   "metadata": {},
   "source": [
    "Code:\n",
    "```markdown\n",
    "- red item\n",
    "- blue items\n",
    "  - one blue item\n",
    "  - another blue item\n",
    "```\n",
    "\n",
    "Output:\n",
    "- red item\n",
    "- blue items\n",
    "  - one blue item\n",
    "  - another blue item\n",
    "  \n",
    "---"
   ]
  },
  {
   "cell_type": "markdown",
   "metadata": {},
   "source": [
    "One can sometimes write (simple) latex code in markdown.\n",
    "\n",
    "Code:\n",
    "```markdown\n",
    "We define a function $f(x) : \\mathbb{R} \\to \\mathbb{R}_{> 0}$ given by\n",
    "$$\n",
    "    x \\mapsto e^{x^2}. \n",
    "$$\n",
    "```\n",
    "\n",
    "Output:\n",
    "\n",
    "We define a function $f(x) : \\mathbb{R} \\to \\mathbb{R}_{> 0}$ given by\n",
    "$$\n",
    "    x \\mapsto e^{x^2}. \n",
    "$$\n",
    "\n",
    "---"
   ]
  },
  {
   "cell_type": "markdown",
   "metadata": {},
   "source": [
    "One can also align equations so that they can be easily read:\n",
    "\n",
    "Code:\n",
    "```markdown\n",
    "$$\n",
    "\\begin{aligned}\n",
    "    1 &= \\sqrt{1} \\\\\n",
    "    &= \\sqrt{(-1)\\cdot (-1)} \\\\\n",
    "    &= \\sqrt{-1} \\cdot \\sqrt{-1} \\\\\n",
    "    &= i \\cdot i \\\\\n",
    "    &= -1.\n",
    "\\end{aligned}\n",
    "$$\n",
    "```\n",
    "\n",
    "Output:\n",
    "$$\n",
    "\\begin{aligned}\n",
    "    1 &= \\sqrt{1} \\\\\n",
    "    &= \\sqrt{(-1)\\cdot (-1)} \\\\\n",
    "    &= \\sqrt{-1} \\cdot \\sqrt{-1} \\\\\n",
    "    &= i \\cdot i \\\\\n",
    "    &= -1.\n",
    "\\end{aligned}\n",
    "$$\n",
    "\n",
    "---"
   ]
  },
  {
   "cell_type": "markdown",
   "metadata": {},
   "source": [
    "## Back to Python computations"
   ]
  },
  {
   "cell_type": "markdown",
   "metadata": {},
   "source": [
    "## Problem\n",
    "\n",
    "Using the data set in `data/UN_IRE_data_smaller.csv` perform PCA. Build your own class to interact with the data.\n",
    "1. Write functions like `__init__` and `__repr__`. \n",
    "2. Write a method to compute all of the principal components (return them in order).\n",
    "3. Find a reasonable $k$ such that almost all of the total variability is captured in the first $k$ principal components. \n",
    "4. Project the data onto the first $k$ components.\n",
    "5. Plot the projected data on the first two components. \n",
    "\n",
    "(This is a 'smaller' version of what you will do for Problem Set 2.)\n",
    "\n",
    "In class, I started typing the following:"
   ]
  },
  {
   "cell_type": "code",
   "execution_count": 19,
   "metadata": {},
   "outputs": [],
   "source": [
    "import pandas as pd\n",
    "import numpy as np\n",
    "\n",
    "class DataFrameDeluxe:\n",
    "\n",
    "    def __init__(self, df):\n",
    "        self.dataframe = df \n",
    "        self.n = len(df)\n",
    "        self.m = len(df.columns)\n",
    "\n",
    "    def __repr__(self):\n",
    "        s = \"Deluxe Data Frame =====\\n\\tFirst five rows:\\n\\t{}\".format(self.dataframe.head())\n",
    "        return s\n",
    "    \n",
    "    def covariance_matrix(self):\n",
    "        X = np.array(self.dataframe).T\n",
    "        return X @ X.T / self.n"
   ]
  },
  {
   "cell_type": "code",
   "execution_count": 20,
   "metadata": {},
   "outputs": [
    {
     "name": "stdout",
     "output_type": "stream",
     "text": [
      "[[ 1.          0.101418   -0.02993994 -0.22063903 -0.2530163   0.11588741\n",
      "   0.02810676 -0.17463691  0.65876099]\n",
      " [ 0.101418    1.          0.8971059   0.62950541 -0.90440474  0.990278\n",
      "  -0.94809571 -0.28735216 -0.15559027]\n",
      " [-0.02993994  0.8971059   1.          0.50951845 -0.79944017  0.9106246\n",
      "  -0.86673234 -0.09157589 -0.27482051]\n",
      " [-0.22063903  0.62950541  0.50951845  1.         -0.60601261  0.63773029\n",
      "  -0.75443647 -0.42784083 -0.33518557]\n",
      " [-0.2530163  -0.90440474 -0.79944017 -0.60601261  1.         -0.91513812\n",
      "   0.89814213  0.3016471   0.0313164 ]\n",
      " [ 0.11588741  0.990278    0.9106246   0.63773029 -0.91513812  1.\n",
      "  -0.96046096 -0.31324433 -0.16713343]\n",
      " [ 0.02810676 -0.94809571 -0.86673234 -0.75443647  0.89814213 -0.96046096\n",
      "   1.          0.29599282  0.24904734]\n",
      " [-0.17463691 -0.28735216 -0.09157589 -0.42784083  0.3016471  -0.31324433\n",
      "   0.29599282  1.         -0.24027416]\n",
      " [ 0.65876099 -0.15559027 -0.27482051 -0.33518557  0.0313164  -0.16713343\n",
      "   0.24904734 -0.24027416  1.        ]]\n"
     ]
    }
   ],
   "source": [
    "df = pd.read_csv(\"data/UN_IRE_data_smaller.csv\")\n",
    "dfd = DataFrameDeluxe(df)\n",
    "print(dfd.covariance_matrix())"
   ]
  },
  {
   "cell_type": "code",
   "execution_count": null,
   "metadata": {},
   "outputs": [],
   "source": []
  }
 ],
 "metadata": {
  "kernelspec": {
   "display_name": "Python 3",
   "language": "python",
   "name": "python3"
  },
  "language_info": {
   "codemirror_mode": {
    "name": "ipython",
    "version": 3
   },
   "file_extension": ".py",
   "mimetype": "text/x-python",
   "name": "python",
   "nbconvert_exporter": "python",
   "pygments_lexer": "ipython3",
   "version": "3.12.0"
  }
 },
 "nbformat": 4,
 "nbformat_minor": 2
}
