{
 "cells": [
  {
   "cell_type": "markdown",
   "metadata": {},
   "source": [
    "# Week 5 Solutions\n",
    "\n",
    "**If you are reading this without having tried the two problems from `Week5.ipynb`, then you should stop and try them out.**\n",
    "\n",
    "Of course there are multiple ways to solve the following problems."
   ]
  },
  {
   "cell_type": "code",
   "execution_count": null,
   "metadata": {},
   "outputs": [],
   "source": [
    "import pandas as pd\n",
    "import numpy as np\n",
    "import matplotlib.pyplot as plt"
   ]
  },
  {
   "cell_type": "markdown",
   "metadata": {},
   "source": [
    "## Problem 1\n",
    "\n",
    "Build a Python function that does the following:\n",
    "\n",
    "**Input:** Given three `pandas` data frames `(df1, df2, df3)` each with 2 columns,\n",
    "\n",
    "**Output:** A `matplotlib` plot of all three of scatter plots in a single plot (2 x 2 grid of subplots).\n",
    "\n",
    "Check out a [matplotlib example](https://matplotlib.org/stable/gallery/subplots_axes_and_figures/subplots_demo.html#stacking-subplots-in-two-directions) on subplots stacking in both horizontal and vertical direction."
   ]
  },
  {
   "cell_type": "code",
   "execution_count": null,
   "metadata": {},
   "outputs": [],
   "source": [
    "def grid_plot(df1, df2, df3):\n",
    "    import matplotlib.pyplot as plt \n",
    "\n",
    "    DF = [df1, df2, df3]\n",
    "    cvals = [df.columns.values for df in DF]\n",
    "    fig, axs = plt.subplots(2, 2)\n",
    "    fig.tight_layout()\n",
    "    k = 0\n",
    "    for i in range(2): \n",
    "        for j in range(2 - i):\n",
    "            axs[i,j].scatter(DF[k][cvals[k][0]], DF[k][cvals[k][1]])\n",
    "            axs[i,j].set_xlabel(cvals[k][0])\n",
    "            axs[i,j].set_ylabel(cvals[k][1])\n",
    "            k += 1\n",
    "    return fig \n",
    "\n",
    "df_test = pd.DataFrame({\n",
    "    \"x\" : [1],\n",
    "    \"y\" : [2]\n",
    "})\n",
    "fig = grid_plot(df_test, df_test, df_test)"
   ]
  },
  {
   "cell_type": "markdown",
   "metadata": {},
   "source": [
    "## Problem 2\n",
    "\n",
    "- Take the current data frame we have `df` and construct the three principal components. \n",
    "- Project the data onto every pair of principal components, so onto (PC1, PC2), (PC1, PC3) and (PC2, PC3).\n",
    "- For each of the three different projections, build a `pandas` data frame with two columns.\n",
    "- Input these three data frames into your function."
   ]
  },
  {
   "cell_type": "code",
   "execution_count": null,
   "metadata": {},
   "outputs": [],
   "source": [
    "# Set up\n",
    "df_big = pd.read_csv(\"data/global-data-on-sustainable-energy.csv\")\n",
    "df = pd.DataFrame({\n",
    "    \"f\" : df_big[\"Electricity from fossil fuels (TWh)\"], \n",
    "    \"n\" : df_big[\"Electricity from nuclear (TWh)\"],\n",
    "    \"r\" : df_big[\"Electricity from renewables (TWh)\"]\n",
    "})\n",
    "df_clean = df.dropna()"
   ]
  },
  {
   "cell_type": "code",
   "execution_count": null,
   "metadata": {},
   "outputs": [],
   "source": [
    "# Averages \n",
    "f_bar = sum(df_clean[\"f\"]) / len(df_clean)\n",
    "n_bar = sum(df_clean[\"n\"]) / len(df_clean)\n",
    "r_bar = sum(df_clean[\"r\"]) / len(df_clean)\n",
    "\n",
    "# Define our matrices\n",
    "X = np.array([\n",
    "    [x - f_bar for x in df_clean[\"f\"]],\n",
    "    [x - n_bar for x in df_clean[\"n\"]],\n",
    "    [x - r_bar for x in df_clean[\"r\"]]\n",
    "])\n",
    "C_X = X @ X.T / len(df_clean)\n",
    "# print(C_X) # We can see that the variances are all on different scales\n",
    "\n",
    "# Perform linear algebra\n",
    "E = np.linalg.eig(C_X)\n",
    "Q = E.eigenvectors\n",
    "# print((Q.T @ C_X @ Q).round()) # Sanity check!\n",
    "\n",
    "# Rearrange Q to get eigenvalues decreasing\n",
    "perm = np.array([\n",
    "    [1, 0, 0],\n",
    "    [0, 0, 1], \n",
    "    [0, 1, 0]\n",
    "])\n",
    "P = (-Q @ perm).T\n",
    "# print((P @ C_X @ P.T).round()) # Sanity check!\n",
    "\n",
    "print(\"Principal components\\n\\tPC1 : {0},\\n\\tPC2 : {1},\\n\\tPC3 : {2}.\".format(P[0], P[1], P[2]))\n",
    "\n",
    "# Build our new data frames\n",
    "Y = P @ X\n",
    "df1 = pd.DataFrame({\n",
    "    \"PC1\" : Y[0],\n",
    "    \"PC2\" : Y[1]\n",
    "})\n",
    "df2 = pd.DataFrame({\n",
    "    \"PC1\" : Y[0],\n",
    "    \"PC3\" : Y[2]\n",
    "})\n",
    "df3 = pd.DataFrame({\n",
    "    \"PC2\" : Y[1],\n",
    "    \"PC3\" : Y[2]\n",
    "})\n",
    "\n",
    "fig = grid_plot(df1, df2, df3)"
   ]
  },
  {
   "cell_type": "markdown",
   "metadata": {},
   "source": [
    "## Problem 3\n",
    "\n",
    "Repeat Problem 2 but rescale the data by incorporating the following function."
   ]
  },
  {
   "cell_type": "code",
   "execution_count": null,
   "metadata": {},
   "outputs": [],
   "source": [
    "def mat_to_rescaled_mat(Z):\n",
    "    from sklearn.preprocessing import StandardScaler\n",
    "    scaler = StandardScaler()\n",
    "    scaler.fit(Z)\n",
    "    return scaler.transform(Z)"
   ]
  },
  {
   "cell_type": "code",
   "execution_count": null,
   "metadata": {},
   "outputs": [],
   "source": [
    "# Define our matrices\n",
    "Z = np.array([\n",
    "    df_clean[\"f\"],\n",
    "    df_clean[\"n\"],\n",
    "    df_clean[\"r\"]\n",
    "])\n",
    "X = mat_to_rescaled_mat(Z)\n",
    "C_X = X @ X.T / len(df_clean)\n",
    "# print(C_X) # We can see that the variances are all on different scales\n",
    "\n",
    "# Perform linear algebra\n",
    "E = np.linalg.eig(C_X)\n",
    "Q = E.eigenvectors\n",
    "# print((Q.T @ C_X @ Q).round()) # Sanity check!\n",
    "\n",
    "# Rearrange Q to get eigenvalues decreasing\n",
    "perm = np.array([\n",
    "    [1, 0, 0],\n",
    "    [0, 0, 1], \n",
    "    [0, 1, 0]\n",
    "])\n",
    "P = (-Q @ perm).T\n",
    "# print((P @ C_X @ P.T).round()) # Sanity check!\n",
    "\n",
    "print(\"Principal components\\n\\tPC1 : {0},\\n\\tPC2 : {1},\\n\\tPC3 : {2}.\".format(P[0], P[1], P[2]))\n",
    "\n",
    "# Build our new data frames\n",
    "Y = P @ X\n",
    "df1 = pd.DataFrame({\n",
    "    \"PC1\" : Y[0],\n",
    "    \"PC2\" : Y[1]\n",
    "})\n",
    "df2 = pd.DataFrame({\n",
    "    \"PC1\" : Y[0],\n",
    "    \"PC3\" : Y[2]\n",
    "})\n",
    "df3 = pd.DataFrame({\n",
    "    \"PC2\" : Y[1],\n",
    "    \"PC3\" : Y[2]\n",
    "})\n",
    "\n",
    "fig = grid_plot(df1, df2, df3)"
   ]
  }
 ],
 "metadata": {
  "kernelspec": {
   "display_name": "Python 3",
   "language": "python",
   "name": "python3"
  },
  "language_info": {
   "codemirror_mode": {
    "name": "ipython",
    "version": 3
   },
   "file_extension": ".py",
   "mimetype": "text/x-python",
   "name": "python",
   "nbconvert_exporter": "python",
   "pygments_lexer": "ipython3",
   "version": "3.11.3"
  },
  "orig_nbformat": 4
 },
 "nbformat": 4,
 "nbformat_minor": 2
}
