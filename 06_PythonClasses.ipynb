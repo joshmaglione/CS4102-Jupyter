{
 "cells": [
  {
   "cell_type": "markdown",
   "metadata": {},
   "source": [
    "# Week 6: Python classes\n",
    "\n",
    "## Goals:\n",
    "- Create `tar` and `zip` files\n",
    "- Learn fundamentals of object oriented programming\n",
    "- Create Python classes\n"
   ]
  },
  {
   "cell_type": "markdown",
   "metadata": {},
   "source": [
    "## Creating a `tar` file\n",
    "\n",
    "One can do this fairly easily in Python with the standard library [tarfile](https://docs.python.org/3/library/tarfile.html).\n",
    "\n",
    "Suppose we want to create a `tar` file containing files `data/ex1.csv` and `data/ex2.csv`."
   ]
  },
  {
   "cell_type": "code",
   "execution_count": 1,
   "metadata": {},
   "outputs": [],
   "source": [
    "import tarfile\n",
    "\n",
    "with tarfile.open(\"two_examples.tar.gz\", \"w:gz\") as tar:\n",
    "    tar.add(\"data/ex1.csv\")\n",
    "    tar.add(\"data/ex2.csv\")"
   ]
  },
  {
   "cell_type": "markdown",
   "metadata": {},
   "source": [
    "This creates a `tar` file with the same directory structure as given. \n",
    "\n",
    "The files `ex1.csv` and `ex2.csv` are contained in the folder `data` in our `tar` file. Can modify code or move files around to fix this."
   ]
  },
  {
   "cell_type": "markdown",
   "metadata": {},
   "source": [
    "## Creating a `zip` file\n",
    "\n",
    "Just like with `tar` one can create `zip` files easily with the standard library [zipfile](https://docs.python.org/3/library/zipfile.html)."
   ]
  },
  {
   "cell_type": "code",
   "execution_count": 2,
   "metadata": {},
   "outputs": [],
   "source": [
    "import zipfile\n",
    "\n",
    "with zipfile.ZipFile(\"two_examples.zip\", \"w\") as zip:\n",
    "    zip.write(\"data/ex1.csv\")\n",
    "    zip.write(\"data/ex2.csv\")"
   ]
  },
  {
   "cell_type": "markdown",
   "metadata": {},
   "source": [
    "Same directory \"problem\" as before. "
   ]
  },
  {
   "cell_type": "markdown",
   "metadata": {},
   "source": [
    "## Programming paradigms\n",
    "\n",
    "There are many different kinds of programming paradigms, which refer to the fundamental style of the code and how one executes commands. \n",
    "\n",
    "Some examples:\n",
    "- procedural (e.g. `C`, `FORTRAN`, `COBOL`)\n",
    "- object oriented (e.g. `Java`, `Python`, `C++`)\n",
    "- functional (e.g. `Scala`, `Haskell`, `Lisp`)\n",
    "\n",
    "Many modern languages take ideas from many different paradigms. For example `Python` has procedural, object oriented, and functional aspects. \n",
    "\n",
    "**Opinion:** I would say `Python` is *primarily* in the object oriented style."
   ]
  },
  {
   "cell_type": "markdown",
   "metadata": {},
   "source": [
    "One of the 'slogans' of object oriented programming is that the objects carry the data. \n",
    "\n",
    "Users use the objects to call certain functions. "
   ]
  },
  {
   "cell_type": "markdown",
   "metadata": {},
   "source": [
    "For example, in `Python` \n",
    "- **methods** are *functions* attached to objects, and \n",
    "- **attributes** are *data* attached to objects.\n",
    "\n",
    "There is sometimes overlap and inconsistencies, but this is the general idea. \n",
    "\n",
    "We can use `dir` to get all of the methods and attributes of an object."
   ]
  },
  {
   "cell_type": "markdown",
   "metadata": {},
   "source": [
    "#### Python lists"
   ]
  },
  {
   "cell_type": "code",
   "execution_count": 3,
   "metadata": {},
   "outputs": [
    {
     "name": "stdout",
     "output_type": "stream",
     "text": [
      "['__add__', '__class__', '__class_getitem__', '__contains__', '__delattr__', '__delitem__', '__dir__', '__doc__', '__eq__', '__format__', '__ge__', '__getattribute__', '__getitem__', '__getstate__', '__gt__', '__hash__', '__iadd__', '__imul__', '__init__', '__init_subclass__', '__iter__', '__le__', '__len__', '__lt__', '__mul__', '__ne__', '__new__', '__reduce__', '__reduce_ex__', '__repr__', '__reversed__', '__rmul__', '__setattr__', '__setitem__', '__sizeof__', '__str__', '__subclasshook__', 'append', 'clear', 'copy', 'count', 'extend', 'index', 'insert', 'pop', 'remove', 'reverse', 'sort']\n"
     ]
    }
   ],
   "source": [
    "print(dir(list))"
   ]
  },
  {
   "cell_type": "markdown",
   "metadata": {},
   "source": [
    "Special methods and attributes are indicated with the prefix and suffix `__`. Let's ignore these for now."
   ]
  },
  {
   "cell_type": "code",
   "execution_count": 4,
   "metadata": {},
   "outputs": [
    {
     "data": {
      "text/plain": [
       "['append',\n",
       " 'clear',\n",
       " 'copy',\n",
       " 'count',\n",
       " 'extend',\n",
       " 'index',\n",
       " 'insert',\n",
       " 'pop',\n",
       " 'remove',\n",
       " 'reverse',\n",
       " 'sort']"
      ]
     },
     "execution_count": 4,
     "metadata": {},
     "output_type": "execute_result"
    }
   ],
   "source": [
    "list(filter(lambda s: not \"__\" in s, dir(list)))"
   ]
  },
  {
   "cell_type": "markdown",
   "metadata": {},
   "source": [
    "I believe all of these are methods."
   ]
  },
  {
   "cell_type": "code",
   "execution_count": 8,
   "metadata": {},
   "outputs": [
    {
     "name": "stdout",
     "output_type": "stream",
     "text": [
      "[1, 5, 25, 125]\n"
     ]
    }
   ],
   "source": [
    "L = [1, 5, 25]\n",
    "L.append(125)\n",
    "# M = L + [125]\n",
    "print(L)"
   ]
  },
  {
   "cell_type": "markdown",
   "metadata": {},
   "source": [
    "Methods can sometimes change the object without seemingly defining a new object"
   ]
  },
  {
   "cell_type": "code",
   "execution_count": 9,
   "metadata": {},
   "outputs": [
    {
     "name": "stdout",
     "output_type": "stream",
     "text": [
      "[5, 25, 125]\n"
     ]
    }
   ],
   "source": [
    "L.remove(1)\n",
    "print(L)"
   ]
  },
  {
   "cell_type": "markdown",
   "metadata": {},
   "source": [
    "### Numpy arrays"
   ]
  },
  {
   "cell_type": "code",
   "execution_count": 10,
   "metadata": {},
   "outputs": [],
   "source": [
    "import numpy as np"
   ]
  },
  {
   "cell_type": "markdown",
   "metadata": {},
   "source": [
    "Arrays in numpy have type `ndarray`. We can view all the methods and attributes with `dir`:"
   ]
  },
  {
   "cell_type": "code",
   "execution_count": 11,
   "metadata": {},
   "outputs": [
    {
     "data": {
      "text/plain": [
       "['T',\n",
       " '__abs__',\n",
       " '__add__',\n",
       " '__and__',\n",
       " '__array__',\n",
       " '__array_finalize__',\n",
       " '__array_function__',\n",
       " '__array_interface__',\n",
       " '__array_namespace__',\n",
       " '__array_priority__',\n",
       " '__array_struct__',\n",
       " '__array_ufunc__',\n",
       " '__array_wrap__',\n",
       " '__bool__',\n",
       " '__buffer__',\n",
       " '__class__',\n",
       " '__class_getitem__',\n",
       " '__complex__',\n",
       " '__contains__',\n",
       " '__copy__',\n",
       " '__deepcopy__',\n",
       " '__delattr__',\n",
       " '__delitem__',\n",
       " '__dir__',\n",
       " '__divmod__',\n",
       " '__dlpack__',\n",
       " '__dlpack_device__',\n",
       " '__doc__',\n",
       " '__eq__',\n",
       " '__float__',\n",
       " '__floordiv__',\n",
       " '__format__',\n",
       " '__ge__',\n",
       " '__getattribute__',\n",
       " '__getitem__',\n",
       " '__getstate__',\n",
       " '__gt__',\n",
       " '__hash__',\n",
       " '__iadd__',\n",
       " '__iand__',\n",
       " '__ifloordiv__',\n",
       " '__ilshift__',\n",
       " '__imatmul__',\n",
       " '__imod__',\n",
       " '__imul__',\n",
       " '__index__',\n",
       " '__init__',\n",
       " '__init_subclass__',\n",
       " '__int__',\n",
       " '__invert__',\n",
       " '__ior__',\n",
       " '__ipow__',\n",
       " '__irshift__',\n",
       " '__isub__',\n",
       " '__iter__',\n",
       " '__itruediv__',\n",
       " '__ixor__',\n",
       " '__le__',\n",
       " '__len__',\n",
       " '__lshift__',\n",
       " '__lt__',\n",
       " '__matmul__',\n",
       " '__mod__',\n",
       " '__mul__',\n",
       " '__ne__',\n",
       " '__neg__',\n",
       " '__new__',\n",
       " '__or__',\n",
       " '__pos__',\n",
       " '__pow__',\n",
       " '__radd__',\n",
       " '__rand__',\n",
       " '__rdivmod__',\n",
       " '__reduce__',\n",
       " '__reduce_ex__',\n",
       " '__repr__',\n",
       " '__rfloordiv__',\n",
       " '__rlshift__',\n",
       " '__rmatmul__',\n",
       " '__rmod__',\n",
       " '__rmul__',\n",
       " '__ror__',\n",
       " '__rpow__',\n",
       " '__rrshift__',\n",
       " '__rshift__',\n",
       " '__rsub__',\n",
       " '__rtruediv__',\n",
       " '__rxor__',\n",
       " '__setattr__',\n",
       " '__setitem__',\n",
       " '__setstate__',\n",
       " '__sizeof__',\n",
       " '__str__',\n",
       " '__sub__',\n",
       " '__subclasshook__',\n",
       " '__truediv__',\n",
       " '__xor__',\n",
       " 'all',\n",
       " 'any',\n",
       " 'argmax',\n",
       " 'argmin',\n",
       " 'argpartition',\n",
       " 'argsort',\n",
       " 'astype',\n",
       " 'base',\n",
       " 'byteswap',\n",
       " 'choose',\n",
       " 'clip',\n",
       " 'compress',\n",
       " 'conj',\n",
       " 'conjugate',\n",
       " 'copy',\n",
       " 'ctypes',\n",
       " 'cumprod',\n",
       " 'cumsum',\n",
       " 'data',\n",
       " 'device',\n",
       " 'diagonal',\n",
       " 'dot',\n",
       " 'dtype',\n",
       " 'dump',\n",
       " 'dumps',\n",
       " 'fill',\n",
       " 'flags',\n",
       " 'flat',\n",
       " 'flatten',\n",
       " 'getfield',\n",
       " 'imag',\n",
       " 'item',\n",
       " 'itemset',\n",
       " 'itemsize',\n",
       " 'mT',\n",
       " 'max',\n",
       " 'mean',\n",
       " 'min',\n",
       " 'nbytes',\n",
       " 'ndim',\n",
       " 'newbyteorder',\n",
       " 'nonzero',\n",
       " 'partition',\n",
       " 'prod',\n",
       " 'ptp',\n",
       " 'put',\n",
       " 'ravel',\n",
       " 'real',\n",
       " 'repeat',\n",
       " 'reshape',\n",
       " 'resize',\n",
       " 'round',\n",
       " 'searchsorted',\n",
       " 'setfield',\n",
       " 'setflags',\n",
       " 'shape',\n",
       " 'size',\n",
       " 'sort',\n",
       " 'squeeze',\n",
       " 'std',\n",
       " 'strides',\n",
       " 'sum',\n",
       " 'swapaxes',\n",
       " 'take',\n",
       " 'to_device',\n",
       " 'tobytes',\n",
       " 'tofile',\n",
       " 'tolist',\n",
       " 'tostring',\n",
       " 'trace',\n",
       " 'transpose',\n",
       " 'var',\n",
       " 'view']"
      ]
     },
     "execution_count": 11,
     "metadata": {},
     "output_type": "execute_result"
    }
   ],
   "source": [
    "# type(np.array([[1]]))\n",
    "dir(np.ndarray)"
   ]
  },
  {
   "cell_type": "markdown",
   "metadata": {},
   "source": [
    "**Note:** For those interested, naming conventions in PYthon exist. They are described in PEPs (Python Enchancment Proposals), which are documents to the Python community aiming at steering *design*. There is a section in [PEP8](https://peps.python.org/pep-0008/#descriptive-naming-styles) that describes naming conventions and addresses the usage of `__foo` vs `_foo` vs `__foo__`. \n",
    "\n",
    "`ndarray` have an attribute called *shape*."
   ]
  },
  {
   "cell_type": "code",
   "execution_count": 14,
   "metadata": {},
   "outputs": [
    {
     "name": "stdout",
     "output_type": "stream",
     "text": [
      "[[1]]\n",
      "(1, 1)\n"
     ]
    }
   ],
   "source": [
    "X = np.array([[1]])\n",
    "print(X)\n",
    "print(X.shape)"
   ]
  },
  {
   "cell_type": "markdown",
   "metadata": {},
   "source": [
    "## Python classes"
   ]
  },
  {
   "cell_type": "markdown",
   "metadata": {},
   "source": [
    "![](graphics/python-at-school.jpg)\n",
    "\n",
    "You won't see this image unless you visit the [repository on GitHub](https://github.com/joshmaglione/CS4102-Jupyter/blob/main/graphics/python-at-school.jpg). (Don't worry it's a waste of time.)"
   ]
  },
  {
   "cell_type": "markdown",
   "metadata": {},
   "source": [
    "Python classes are user-defined Python objects like `list` or `ndarray`. \n",
    "\n",
    "Very convenient to use:\n",
    "- want to build your own original object,\n",
    "- want to interact with lots of data conveniently. \n",
    "\n",
    "Here's a basic example. Let's create a class called `VectorSpace`. We will *initialise* this class with a field (either $\\mathbb{Q}$, $\\mathbb{R}$, or $\\mathbb{C}$) and a nonnegative integer."
   ]
  },
  {
   "cell_type": "code",
   "execution_count": 15,
   "metadata": {},
   "outputs": [],
   "source": [
    "class VectorSpace:\n",
    "    def __init__(self, K, d):\n",
    "        self.field = K \n",
    "        self.dim = d "
   ]
  },
  {
   "cell_type": "markdown",
   "metadata": {},
   "source": [
    "The special method `__init__` tells Python how to *create* a `VectorSpace` object. \n",
    "\n",
    "The object/variable `self` is Python's syntax for methods. All methods (e.g. `x.foo()`) are built with `self` as the first input variable. (I don't think it *needs* to be first, but this is the convention.)\n",
    "\n",
    "So the above code tells Python that a `VectorSpace` is create with inputs for `K` and `d`."
   ]
  },
  {
   "cell_type": "code",
   "execution_count": 19,
   "metadata": {},
   "outputs": [
    {
     "name": "stdout",
     "output_type": "stream",
     "text": [
      "<__main__.VectorSpace object at 0x7fc94402e4e0>\n"
     ]
    }
   ],
   "source": [
    "V = VectorSpace(\"R\", 3)\n",
    "print(V)"
   ]
  },
  {
   "cell_type": "markdown",
   "metadata": {},
   "source": [
    "Python successfully created `VectorSpace`, but Python does not know how to print it other than give the only info it has.\n",
    "\n",
    "We can tell Python how to print our object with `__repr__`. This special method should return a `str`."
   ]
  },
  {
   "cell_type": "code",
   "execution_count": 20,
   "metadata": {},
   "outputs": [],
   "source": [
    "class VectorSpace:\n",
    "    def __init__(self, K, d):\n",
    "        self.field = K \n",
    "        self.dim = d \n",
    "    \n",
    "    def __repr__(self):\n",
    "        if self.field == \"Q\":\n",
    "            s = \"rational\"\n",
    "        elif self.field == \"C\":\n",
    "            s = \"complex\"\n",
    "        else:\n",
    "            s = \"real\"\n",
    "        return f\"A {self.dim}-dimensional {s} vector space\""
   ]
  },
  {
   "cell_type": "code",
   "execution_count": 21,
   "metadata": {},
   "outputs": [
    {
     "name": "stdout",
     "output_type": "stream",
     "text": [
      "A 3-dimensional real vector space\n",
      "R 3\n"
     ]
    }
   ],
   "source": [
    "V = VectorSpace(\"R\", 3)\n",
    "print(V)\n",
    "print(V.field, V.dim)"
   ]
  },
  {
   "cell_type": "markdown",
   "metadata": {},
   "source": [
    "We can create methods for a class by creating functions within the class (including the input variable `self`)."
   ]
  },
  {
   "cell_type": "code",
   "execution_count": 22,
   "metadata": {},
   "outputs": [],
   "source": [
    "class VectorSpace:\n",
    "    def __init__(self, K, d):\n",
    "        self.field = K \n",
    "        self.dim = d \n",
    "    \n",
    "    def __repr__(self):\n",
    "        if self.field == \"Q\":\n",
    "            s = \"rational\"\n",
    "        elif self.field == \"C\":\n",
    "            s = \"complex\"\n",
    "        else:\n",
    "            s = \"real\"\n",
    "        return f\"A {self.dim}-dimensional {s} vector space\"\n",
    "    \n",
    "    def std_basis(self):\n",
    "        d = self.dim\n",
    "        if d == 0:\n",
    "            return []\n",
    "        int_bas = [[0]*(i) + [1] + [0]*(d-i-1) for i in range(d)]\n",
    "        if self.field == \"Q\": \n",
    "            return int_bas\n",
    "        return [list(map(lambda x: float(x), v)) for v in int_bas]"
   ]
  },
  {
   "cell_type": "code",
   "execution_count": 25,
   "metadata": {},
   "outputs": [
    {
     "data": {
      "text/plain": [
       "[[1.0, 0.0, 0.0], [0.0, 1.0, 0.0], [0.0, 0.0, 1.0]]"
      ]
     },
     "execution_count": 25,
     "metadata": {},
     "output_type": "execute_result"
    }
   ],
   "source": [
    "V = VectorSpace(\"R\", 3)\n",
    "V.std_basis()"
   ]
  },
  {
   "cell_type": "markdown",
   "metadata": {},
   "source": [
    "We could edit our class, so that when we receive bad input (e.g. `d < 0`) we raise an error. We'll come back to this later... maybe."
   ]
  },
  {
   "cell_type": "markdown",
   "metadata": {},
   "source": [
    "## Try it yourself"
   ]
  },
  {
   "cell_type": "markdown",
   "metadata": {},
   "source": [
    "### Problem 1:\n",
    "\n",
    "Create a Python class that is initialise with a `pandas` dataframe and a list of the column values (strings) corresponding to independent variables. It should have the following attributes:\n",
    "- `dataframe` : the given dataframe,\n",
    "- `dep_vals` : a list of the column values corresponding to dependent variables,\n",
    "- `ind_vals` : same as `dep_vals` but independent.\n",
    "\n",
    "It should have the following methods:\n",
    "- `X_matrix` : a `numpy` matrix (`ndarray`) whose columns are the 'independent' variables together with a ones column. \n",
    "- `Y_matrix` : same as `X_matrix` but 'dependent'.\n",
    "\n",
    "1. Write a `__repr__` method for this class. \n",
    "2. Write a `__len__` method for this class. "
   ]
  },
  {
   "cell_type": "code",
   "execution_count": null,
   "metadata": {},
   "outputs": [],
   "source": [
    "class MyDataFrame:\n",
    "\n",
    "    def __init__(self, df, ind):\n",
    "        self.dataframe = df \n",
    "        self.ind_vals = ind \n",
    "        self.dep_vals = list(filter(\n",
    "            lambda s: not s in ind, \n",
    "            df.columns.values\n",
    "        ))\n",
    "    \n",
    "    def __repr__(self):\n",
    "        return \"{}\".format(self.dataframe)\n",
    "    \n",
    "    def __len__(self):\n",
    "        return len(self.dataframe)\n",
    "    \n",
    "    def X_matrix(self):\n",
    "        return np.array(\n",
    "            [[1]*len(self)] + [self.dataframe[x] for x in self.ind_vals]\n",
    "        ).T\n",
    "\n",
    "    def Y_matrix(self):\n",
    "        return np.array(\n",
    "            [self.dataframe[y] for y in self.dep_vals]\n",
    "        ).T\n",
    "    \n",
    "import pandas as pd \n",
    "df = pd.read_csv(\"data/nonlinear_ex.csv\")\n",
    "mdf = MyDataFrame(df, [\"x_i\"])\n",
    "print(mdf)\n",
    "print(len(mdf))\n",
    "print(mdf.X_matrix())\n",
    "print(mdf.Y_matrix())"
   ]
  },
  {
   "cell_type": "markdown",
   "metadata": {},
   "source": [
    "### Problem 2: \n",
    "\n",
    "Same idea, create a Python class initialised by a `pandas` dataframe, but it's up to you how to name things and what to include. There should be methods that output the covariance matrix (after normalising) and the (ordered) principal components. \n",
    "\n",
    "(An exercise 😁)"
   ]
  }
 ],
 "metadata": {
  "kernelspec": {
   "display_name": "Python 3",
   "language": "python",
   "name": "python3"
  },
  "language_info": {
   "codemirror_mode": {
    "name": "ipython",
    "version": 3
   },
   "file_extension": ".py",
   "mimetype": "text/x-python",
   "name": "python",
   "nbconvert_exporter": "python",
   "pygments_lexer": "ipython3",
   "version": "3.12.6"
  },
  "orig_nbformat": 4
 },
 "nbformat": 4,
 "nbformat_minor": 2
}
