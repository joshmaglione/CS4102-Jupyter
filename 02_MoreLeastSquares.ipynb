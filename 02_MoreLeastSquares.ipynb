{
 "cells": [
  {
   "cell_type": "markdown",
   "metadata": {},
   "source": [
    "# Week 2: Least Squares Fitting (cont.)\n",
    "\n",
    "## Goals\n",
    "- Plotting data in Python via [matplotlib](https://matplotlib.org/)\n",
    "- Higher dimensional least squares fitting in Python"
   ]
  },
  {
   "cell_type": "markdown",
   "metadata": {},
   "source": [
    "## Plotting with Matplotlib\n",
    "The module [matplotlib](https://matplotlib.org/) is very powerful and customizable. \n",
    "\n",
    "We will plot the data points (ignoring the $i$ column) from the in-class exercise from Week 1."
   ]
  },
  {
   "cell_type": "code",
   "execution_count": null,
   "metadata": {},
   "outputs": [],
   "source": [
    "import pandas as pd \n",
    "\n",
    "df = pd.DataFrame({\n",
    "    \"x\" : [1.0, 2.0, 3.0, 1.5, 3.5, 3.0, 4.0, 5.0],\n",
    "    \"y\" : [1.0, 1.5, 2.0, 2.0, 3.0, 4.5, 2.0, 3.5]\n",
    "})\n",
    "print(df)"
   ]
  },
  {
   "cell_type": "markdown",
   "metadata": {},
   "source": [
    "Pandas already incorporates matplotlib in its `plot` method for a data frame, but it's not what we want."
   ]
  },
  {
   "cell_type": "code",
   "execution_count": null,
   "metadata": {},
   "outputs": [],
   "source": [
    "df.plot()           # Using matplotlib in the backend"
   ]
  },
  {
   "cell_type": "markdown",
   "metadata": {},
   "source": [
    "We will build a scatter plot from scratch."
   ]
  },
  {
   "cell_type": "code",
   "execution_count": null,
   "metadata": {},
   "outputs": [],
   "source": [
    "import matplotlib.pyplot as plt\n",
    "\n",
    "fig, ax = plt.subplots()\n",
    "ax.grid()                                   # Turns the grids on\n",
    "ax.scatter(df[\"x\"], df[\"y\"], zorder=2)      # Builds a scatter plot \n",
    "plt.show()                                  # Displays the plot"
   ]
  },
  {
   "cell_type": "markdown",
   "metadata": {},
   "source": [
    "### Least Squares Fitting\n",
    "\n",
    "Now let's put a least squares line in the plot. \n",
    "\n",
    "First we need to compute the least squares line."
   ]
  },
  {
   "cell_type": "markdown",
   "metadata": {},
   "source": [
    "Recall \n",
    "$$\n",
    "\\begin{aligned}\n",
    "    X &= \\begin{pmatrix} \n",
    "        1 & x_1 \\\\ 1 & x_2 \\\\ \\vdots & \\vdots \\\\ 1 & x_n\n",
    "    \\end{pmatrix}, & \n",
    "    Y &= \\begin{pmatrix} \n",
    "        y_1 \\\\ y_2 \\\\ \\vdots \\\\ y_n\n",
    "    \\end{pmatrix} , & \n",
    "    B &= \\begin{pmatrix}\n",
    "        b_0 \\\\ b_1\n",
    "    \\end{pmatrix} ,\n",
    "\\end{aligned} \n",
    "$$\n",
    "where $B = (X^{\\mathrm{t}}X)^{-1} X^{\\mathrm{t}}Y$, provided $X^{\\mathrm{t}}X$ is invertible."
   ]
  },
  {
   "cell_type": "markdown",
   "metadata": {},
   "source": [
    "We will use the `numpy` matrix data structures."
   ]
  },
  {
   "cell_type": "code",
   "execution_count": null,
   "metadata": {},
   "outputs": [],
   "source": [
    "import numpy as np\n",
    "\n",
    "X = np.array([[1]*len(df), df[\"x\"]]).T      # The method T is the transpose\n",
    "print(X)\n",
    "Y = np.array([df[\"y\"]]).T\n",
    "print(Y)"
   ]
  },
  {
   "cell_type": "markdown",
   "metadata": {},
   "source": [
    "Now we compute $B = (X^{\\mathrm{t}}X)^{-1} X^{\\mathrm{t}}Y$:"
   ]
  },
  {
   "cell_type": "code",
   "execution_count": null,
   "metadata": {},
   "outputs": [],
   "source": [
    "# print(X.T @ X)\n",
    "# print(np.linalg.inv(X.T @ X))                              # (X^t * X)^{-1}\n",
    "# print(np.linalg.inv(X.T @ X) @ X.T @ X)\n",
    "\n",
    "B = np.linalg.inv(X.T @ X) @ X.T @ Y\n",
    "print(B)\n",
    "b0 = B[0,0]                                     # The (0,0) entry of B\n",
    "b1 = B[1,0]                                     # The (1,0) entry of B\n",
    "print(f\"b0 = {b0}\\nb1 = {b1}\")    \t\t  \t\t# Fancy printing"
   ]
  },
  {
   "cell_type": "markdown",
   "metadata": {},
   "source": [
    "### Plotting the scatter plot and the line\n",
    "\n",
    "Now we need to include the line $y=b_0+b_1x$ into our plot above. \n",
    "\n",
    "We just simply create both a scatter and a plot, and then we display the resulting plot."
   ]
  },
  {
   "cell_type": "markdown",
   "metadata": {},
   "source": [
    "Matplotlib simply connects points"
   ]
  },
  {
   "cell_type": "code",
   "execution_count": null,
   "metadata": {},
   "outputs": [],
   "source": [
    "xs = np.linspace(0.9, 5.1, 2)\n",
    "ys = b0 + b1*xs\n",
    "print(f\"xs = {xs}\\nys = {ys}\")"
   ]
  },
  {
   "cell_type": "markdown",
   "metadata": {},
   "source": [
    "We can actually make the pandas plot work 😁"
   ]
  },
  {
   "cell_type": "code",
   "execution_count": null,
   "metadata": {},
   "outputs": [],
   "source": [
    "fig, ax = plt.subplots()\n",
    "df.plot(kind=\"scatter\", x=\"x\", y=\"y\", ax=ax, zorder=3)\n",
    "ax.plot(xs, ys, c=\"orange\", zorder=2)\n",
    "ax.grid()\n",
    "ax.set_xticks([1, 1.5, 2, 2.5, 3, 3.5, 4, 4.5, 5])\n",
    "plt.show()"
   ]
  },
  {
   "cell_type": "markdown",
   "metadata": {},
   "source": [
    "## Plane of best fit\n",
    "Just as before, we can load our data from `./data/ex2.csv` using pandas."
   ]
  },
  {
   "cell_type": "code",
   "execution_count": null,
   "metadata": {},
   "outputs": [],
   "source": [
    "df = pd.read_csv(\"data/ex2.csv\")\n",
    "print(df)"
   ]
  },
  {
   "cell_type": "markdown",
   "metadata": {},
   "source": [
    "Alternatively we can run the following code to load the data we need. To turn it \"on\" remove all of the `#` symbols."
   ]
  },
  {
   "cell_type": "code",
   "execution_count": null,
   "metadata": {},
   "outputs": [],
   "source": [
    "# pd.DataFrame({\n",
    "#     \"x_i1\" : [278, 252, 344, 134, 215, 261, 131, 463, 167, 298, 230, 293, 290, 271, 385, 354],\n",
    "#     \"x_i2\" : [36, 31, 35, 33, 35, 40, 39, 43, 46, 42, 60, 67, 37, 31, 63, 36],\n",
    "#     \"y_i\" : [287, 256, 300, 182, 248, 271, 149, 411, 214, 291, 314, 352, 298, 252, 439, 328],\n",
    "# })"
   ]
  },
  {
   "cell_type": "markdown",
   "metadata": {},
   "source": [
    "To get the plane of best fit, we construct the relevant matrices and solve:\n",
    "$$\n",
    "\\begin{aligned} \n",
    "    X &= \\begin{pmatrix} \n",
    "        1 & x_{11} & x_{12} \\\\ 1 & x_{21} & x_{22} \\\\ \\vdots & \\vdots & \\vdots \\\\ 1 & x_{n1} & x_{n2}\n",
    "    \\end{pmatrix}, & \n",
    "    Y &= \\begin{pmatrix} \n",
    "        y_1 \\\\ y_2 \\\\ \\vdots \\\\ y_n\n",
    "    \\end{pmatrix} , & \n",
    "    B &= \\begin{pmatrix}\n",
    "        b_0 \\\\ b_1 \\\\ b_2\n",
    "    \\end{pmatrix} .\n",
    "\\end{aligned}\n",
    "$$"
   ]
  },
  {
   "cell_type": "markdown",
   "metadata": {},
   "source": [
    "We will build $X$ by concatenating three columns:"
   ]
  },
  {
   "cell_type": "code",
   "execution_count": null,
   "metadata": {},
   "outputs": [],
   "source": [
    "ones = np.array([[1] * 16]).T\n",
    "xi1 = np.array([df[\"x_i1\"]]).T\n",
    "xi2 = np.array([df[\"x_i2\"]]).T\n",
    "# print(ones, xi1, xi2)\n",
    "X = np.concatenate((ones, xi1, xi2), axis=1)\n",
    "print(X)"
   ]
  },
  {
   "cell_type": "code",
   "execution_count": null,
   "metadata": {},
   "outputs": [],
   "source": [
    "Y = np.array([df[\"y_i\"]]).T\n",
    "print(Y)"
   ]
  },
  {
   "cell_type": "code",
   "execution_count": null,
   "metadata": {},
   "outputs": [],
   "source": [
    "B = np.linalg.inv(X.T @ X) @ X.T @ Y\n",
    "print(B)"
   ]
  },
  {
   "cell_type": "markdown",
   "metadata": {},
   "source": [
    "Therefore, our plane of best fit is approximately \n",
    "$$\n",
    "    y = -11.3 + 0.7x_1 + 2.6x_2. \n",
    "$$"
   ]
  },
  {
   "cell_type": "markdown",
   "metadata": {},
   "source": [
    "## Plotting a 3D scatter with a plane"
   ]
  },
  {
   "cell_type": "markdown",
   "metadata": {},
   "source": [
    "First we plot the data points in $\\mathbb{R}^3$. [Matplotlib example](https://matplotlib.org/stable/gallery/mplot3d/scatter3d.html) for reference."
   ]
  },
  {
   "cell_type": "code",
   "execution_count": null,
   "metadata": {},
   "outputs": [],
   "source": [
    "fig = plt.figure(figsize=(10,6))\n",
    "ax = fig.add_subplot(projection='3d')\n",
    "ax.scatter(df[\"x_i1\"], df[\"x_i2\"], df[\"y_i\"], c=\"blue\")\n",
    "ax.set_xlabel(\"x_1\")\n",
    "ax.set_ylabel(\"x_2\")\n",
    "ax.set_zlabel(\"y\")\n",
    "ax.set_box_aspect(aspect=None, zoom=0.9)"
   ]
  },
  {
   "cell_type": "markdown",
   "metadata": {},
   "source": [
    "Now we put a plot of our plane of best fit onto the same axes. [Matplotlib example](https://matplotlib.org/stable/gallery/mplot3d/surface3d.html) for reference.\n",
    "\n",
    "First we need to build up our plane."
   ]
  },
  {
   "cell_type": "code",
   "execution_count": null,
   "metadata": {},
   "outputs": [],
   "source": [
    "Xs = np.linspace(110, 490, 20)      # 20 points in interval [110, 490]\n",
    "Ys = np.linspace(30, 68, 10)        # 10 points in interval [30, 68]\n",
    "XXs, YYs = np.meshgrid(Xs, Ys)      # Makes a mesh -- essentially Xs x Ys.\n",
    "# print(XXs, YYs)"
   ]
  },
  {
   "cell_type": "markdown",
   "metadata": {},
   "source": [
    "Let's see what `Xs` and `Ys` look like."
   ]
  },
  {
   "cell_type": "code",
   "execution_count": null,
   "metadata": {},
   "outputs": [],
   "source": [
    "fig, ax = plt.subplots()\n",
    "ax.scatter(XXs, YYs, c=\"green\")         # Mesh = green\n",
    "ax.scatter(Xs, [30]*len(Xs), c=\"blue\")  # Xs = blue\n",
    "ax.scatter([110]*len(Ys), Ys, c=\"red\")  # Ys = red"
   ]
  },
  {
   "cell_type": "markdown",
   "metadata": {},
   "source": [
    "Now we will build our plane from this data."
   ]
  },
  {
   "cell_type": "code",
   "execution_count": null,
   "metadata": {},
   "outputs": [],
   "source": [
    "# Plot from before:\n",
    "fig = plt.figure(figsize=(10,6))\n",
    "ax = fig.add_subplot(projection='3d')\n",
    "ZZs = B[0,0] + B[1,0]*XXs + B[2,0]*YYs      # y = b_0 + b_1*x_1 + b_2*x_2\n",
    "ax.plot_surface(XXs, YYs, ZZs)"
   ]
  },
  {
   "cell_type": "markdown",
   "metadata": {},
   "source": [
    "Now let's take the data and put them in the same plot! (Finally)\n",
    "\n",
    "(This will be hard to see. We really need an animation...)"
   ]
  },
  {
   "cell_type": "code",
   "execution_count": null,
   "metadata": {},
   "outputs": [],
   "source": [
    "# Plot from before:\n",
    "fig = plt.figure(figsize=(10,6))\n",
    "ax = fig.add_subplot(projection='3d')\n",
    "ax.scatter(df[\"x_i1\"], df[\"x_i2\"], df[\"y_i\"], c=\"orange\")\n",
    "ax.plot_surface(XXs, YYs, ZZs, alpha=0.5)\n",
    "ax.set_xlabel(\"x_1\")\n",
    "ax.set_ylabel(\"x_2\")\n",
    "ax.set_zlabel(\"y\")\n",
    "ax.set_box_aspect(aspect=None, zoom=0.9)"
   ]
  },
  {
   "cell_type": "markdown",
   "metadata": {},
   "source": [
    "Although the 3D plot is a bit hard to parse, there are ways around this---but we won't go there. \n",
    "\n",
    "There are ways to make animations, so one could rotate the camera angles judiciously in order to see how our plane fits the data. "
   ]
  }
 ],
 "metadata": {
  "kernelspec": {
   "display_name": "Python 3",
   "language": "python",
   "name": "python3"
  },
  "language_info": {
   "codemirror_mode": {
    "name": "ipython",
    "version": 3
   },
   "file_extension": ".py",
   "mimetype": "text/x-python",
   "name": "python",
   "nbconvert_exporter": "python",
   "pygments_lexer": "ipython3",
   "version": "3.11.3"
  },
  "orig_nbformat": 4
 },
 "nbformat": 4,
 "nbformat_minor": 2
}
