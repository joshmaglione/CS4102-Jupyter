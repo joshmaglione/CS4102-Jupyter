{
 "cells": [
  {
   "cell_type": "markdown",
   "metadata": {},
   "source": [
    "# Week 12: A semester in review "
   ]
  },
  {
   "cell_type": "markdown",
   "metadata": {},
   "source": [
    "## Python concepts\n",
    "\n",
    "In **August 2023**, `Python` was the most popular language according to [TIOBE](https://www.tiobe.com/tiobe-index/). In **November 2023** this is still the case.  "
   ]
  },
  {
   "cell_type": "markdown",
   "metadata": {},
   "source": [
    "Recall the different ways to import functions from modules:"
   ]
  },
  {
   "cell_type": "code",
   "execution_count": null,
   "metadata": {},
   "outputs": [],
   "source": [
    "import numpy as np\n",
    "from sklearn import decomposition as PCA "
   ]
  },
  {
   "cell_type": "markdown",
   "metadata": {},
   "source": [
    "We have two ways to write functions:"
   ]
  },
  {
   "cell_type": "code",
   "execution_count": null,
   "metadata": {},
   "outputs": [],
   "source": [
    "def add_one(x):\n",
    "    return x + 1\n",
    "\n",
    "add_1 = lambda x: x + 1"
   ]
  },
  {
   "cell_type": "markdown",
   "metadata": {},
   "source": [
    "We saw various 'functional style' functions:\n",
    "- `map`\n",
    "- `filter`\n",
    "- `reduce` (from `functools`) "
   ]
  },
  {
   "cell_type": "markdown",
   "metadata": {},
   "source": [
    "We have created Python classes:"
   ]
  },
  {
   "cell_type": "code",
   "execution_count": null,
   "metadata": {},
   "outputs": [],
   "source": [
    "class MyClass:\n",
    "\n",
    "    def __init__(self, data):\n",
    "        self.data = data\n",
    "        self.my_attribute = None \n",
    "    \n",
    "    def __repr__(self):\n",
    "        return \"This is the most special object of 'MyClass'.\"\n",
    "    \n",
    "    def my_method1(self):\n",
    "        return self.data\n",
    "    \n",
    "    def my_method2(self, k):\n",
    "        self.my_attribute = k\n",
    "        print(f\"Thanks for the {k}\")"
   ]
  },
  {
   "cell_type": "code",
   "execution_count": null,
   "metadata": {},
   "outputs": [],
   "source": [
    "test = MyClass([1,2,3,4])\n",
    "test.my_method2(7)\n",
    "print(test.my_attribute)"
   ]
  },
  {
   "cell_type": "markdown",
   "metadata": {},
   "source": [
    "## Problems\n",
    "\n",
    "Although you will not have Python for the exam, you will still need to know how processes work. Use whatever you want for the following problems."
   ]
  },
  {
   "cell_type": "markdown",
   "metadata": {},
   "source": [
    "#### Problem A. \n",
    "\n",
    "1. Load up the data from `nonlinear_ex.csv` and plot it using `matplotlib`.\n",
    "2. Determine the parabola of best fit. \n",
    "3. Determine the line of best fit.\n",
    "4. Compute the $r^2$ values for your functions in parts (2) and (3)."
   ]
  },
  {
   "cell_type": "markdown",
   "metadata": {},
   "source": [
    "#### Problem B.\n",
    "\n",
    "1. Load up the data from `UN_IRE_data_smaller.csv` and display the first 5 rows.\n",
    "2. Build a list of lists of floats that correspond to the ordered list of principal components. \n",
    "3. What is the smallest $k$ such that the first $k$ principal components preserves at least $95\\%$ of the total variability? \n",
    "4. Plot the projection of the data onto the first two principal components. "
   ]
  },
  {
   "cell_type": "markdown",
   "metadata": {},
   "source": [
    "#### Problem C.\n",
    "\n",
    "1. Write your own basic $k$-means algorithm.\n",
    "2. Load up all of the data sets `extra_1.csv`, ..., `extra_5.csv` and plot them with `matplotlib`.\n",
    "3. Which of the 5 data sets loaded from part (2) would $k$-means probably perform well on? Why?\n",
    "4. Which would $k$-means probably perform poorly on? Why?"
   ]
  },
  {
   "cell_type": "markdown",
   "metadata": {},
   "source": [
    "#### Problem D.\n",
    "\n",
    "1. Write your own hierarchial clustering algorithm.\n",
    "2. Load up all of the data sets `extra_1.csv`, ..., `extra_5.csv` and plot them with `matplotlib`.\n",
    "3. Which of the 5 data sets loaded from part (2) would h-clustering perform well on? Why?\n",
    "4. Which would h-clustering perform poorly on? Why?"
   ]
  }
 ],
 "metadata": {
  "kernelspec": {
   "display_name": "Python 3",
   "language": "python",
   "name": "python3"
  },
  "language_info": {
   "codemirror_mode": {
    "name": "ipython",
    "version": 3
   },
   "file_extension": ".py",
   "mimetype": "text/x-python",
   "name": "python",
   "nbconvert_exporter": "python",
   "pygments_lexer": "ipython3",
   "version": "3.12.0"
  }
 },
 "nbformat": 4,
 "nbformat_minor": 2
}
