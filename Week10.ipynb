{
 "cells": [
  {
   "cell_type": "markdown",
   "metadata": {},
   "source": [
    "# Week 10: $k$-means and elbows\n",
    "\n",
    "## Goals:\n",
    "- See strengths and weaknesses of $k$-means\n",
    "- Elbow plots"
   ]
  },
  {
   "cell_type": "code",
   "execution_count": null,
   "metadata": {},
   "outputs": [],
   "source": [
    "import numpy as np\n",
    "import matplotlib.pyplot as plt \n",
    "import pandas as pd\n",
    "from sklearn.cluster import KMeans"
   ]
  },
  {
   "cell_type": "markdown",
   "metadata": {},
   "source": [
    "## Examples with $k$-means\n",
    "\n",
    "We will use the $k$-means algorithm in `sci-kit learn`, but I want the basic version. \n",
    "\n",
    "You can find more details about the [$k$-means algorithm](https://scikit-learn.org/stable/modules/generated/sklearn.cluster.KMeans.html) from `sci-kit learn`.\n",
    "\n",
    "So here's a wrapper function to give us the basic $k$-means algorithm."
   ]
  },
  {
   "cell_type": "code",
   "execution_count": null,
   "metadata": {},
   "outputs": [],
   "source": [
    "def BasicKMeans(k, data):\n",
    "    return KMeans(n_clusters=k, init='random', n_init=1).fit(data)"
   ]
  },
  {
   "cell_type": "markdown",
   "metadata": {},
   "source": [
    "Let's create another wrapper function to stop after one iteration, so randomly select and then one more step."
   ]
  },
  {
   "cell_type": "code",
   "execution_count": null,
   "metadata": {},
   "outputs": [],
   "source": [
    "def BasicKMeans_2(k, data):\n",
    "    return KMeans(n_clusters=k, init='random', n_init=1, max_iter=1).fit(data)"
   ]
  },
  {
   "cell_type": "markdown",
   "metadata": {},
   "source": [
    "The following code will produce nice Voronoi tessellations, given the data points and centroids."
   ]
  },
  {
   "cell_type": "code",
   "execution_count": null,
   "metadata": {},
   "outputs": [],
   "source": [
    "def Voronoi(data, kmeans=None):\n",
    "    import numpy as np\n",
    "    import matplotlib.pyplot as plt \n",
    "\n",
    "    x_min = (data.T)[0].min()\n",
    "    x_max = (data.T)[0].max()\n",
    "    y_min = (data.T)[1].min()\n",
    "    y_max = (data.T)[1].max()\n",
    "    ma = max(x_max, y_max)\n",
    "    mi = min(x_min, y_min)\n",
    "    x_min -= (ma - mi)/20\n",
    "    y_min -= (ma - mi)/20\n",
    "    x_max += (ma - mi)/20\n",
    "    y_max += (ma - mi)/20\n",
    "\n",
    "    plt.figure(1)\n",
    "    plt.clf()\n",
    "    if kmeans:\n",
    "        incr = 0.01\n",
    "        xx, yy = np.meshgrid(\n",
    "            np.arange(x_min, x_max, incr), \n",
    "            np.arange(y_min, y_max, incr)\n",
    "        )\n",
    "        Z = np.c_[xx.ravel(), yy.ravel()]\n",
    "        L = kmeans.predict(Z)\n",
    "        L = L.reshape(xx.shape)\n",
    "        plt.imshow(\n",
    "            L,\n",
    "            interpolation=\"nearest\",\n",
    "            extent=(xx.min(), xx.max(), yy.min(), yy.max()),\n",
    "            cmap=plt.cm.Paired,\n",
    "            aspect=\"auto\",\n",
    "            origin=\"lower\",\n",
    "        )\n",
    "        plt.tick_params(\n",
    "            left = False, \n",
    "            right = False, \n",
    "            labelleft = False, \n",
    "            labelbottom = False, \n",
    "            bottom = False\n",
    "        )\n",
    "    plt.scatter(data[:,0], data[:,1], c=\"black\")    \n",
    "    if kmeans:\n",
    "        cents = kmeans.cluster_centers_\n",
    "        plt.scatter(cents[:,0], cents[:,1], c=\"white\", marker=\"x\", linewidths=2, s=100)\n",
    "    return plt"
   ]
  },
  {
   "cell_type": "markdown",
   "metadata": {},
   "source": [
    "### A Clear Case\n",
    "\n",
    "First we will look at the data set `three_clusters_clear.csv`. We will plot this with `Voronoi`."
   ]
  },
  {
   "cell_type": "code",
   "execution_count": null,
   "metadata": {},
   "outputs": [],
   "source": [
    "data_3c = pd.read_csv(\"data/three_clusters_clear.csv\").to_numpy()\n",
    "plot = Voronoi(data_3c)"
   ]
  },
  {
   "cell_type": "code",
   "execution_count": null,
   "metadata": {},
   "outputs": [],
   "source": [
    "kmeans_data_3c = BasicKMeans(3, data_3c)\n",
    "print(kmeans_data_3c.cluster_centers_)"
   ]
  },
  {
   "cell_type": "code",
   "execution_count": null,
   "metadata": {},
   "outputs": [],
   "source": [
    "plot = Voronoi(data_3c, kmeans=kmeans_data_3c)"
   ]
  },
  {
   "cell_type": "code",
   "execution_count": null,
   "metadata": {},
   "outputs": [],
   "source": [
    "plot = Voronoi(data_3c, kmeans=BasicKMeans_2(3, data_3c))"
   ]
  },
  {
   "cell_type": "markdown",
   "metadata": {},
   "source": [
    "### Not So Clear Case\n",
    "\n",
    "Now we will load the `three_clusters_vague.csv` data set, which still has three clusters."
   ]
  },
  {
   "cell_type": "code",
   "execution_count": null,
   "metadata": {},
   "outputs": [],
   "source": [
    "data_3v = pd.read_csv(\"data/three_clusters_vague.csv\").to_numpy()\n",
    "plot = Voronoi(data_3v)"
   ]
  },
  {
   "cell_type": "code",
   "execution_count": null,
   "metadata": {},
   "outputs": [],
   "source": [
    "kmeans_data_3v = BasicKMeans(3, data_3v)\n",
    "print(kmeans_data_3v.cluster_centers_)"
   ]
  },
  {
   "cell_type": "code",
   "execution_count": null,
   "metadata": {},
   "outputs": [],
   "source": [
    "plot = Voronoi(data_3v, kmeans=kmeans_data_3v)"
   ]
  },
  {
   "cell_type": "code",
   "execution_count": null,
   "metadata": {},
   "outputs": [],
   "source": [
    "plot = Voronoi(data_3v, kmeans=BasicKMeans_2(3, data_3v))"
   ]
  },
  {
   "cell_type": "markdown",
   "metadata": {},
   "source": [
    "### Clear but 'unbalanced'\n",
    "\n",
    "Now we will load a new data set where $k$-means is sometimes 'successful'.\n",
    "\n",
    "**Note.** $k$-means is neither successful or unsuccessful. It does what it does. 'Success' is based on our definition of what the clusters ought to be in the data. "
   ]
  },
  {
   "cell_type": "code",
   "execution_count": null,
   "metadata": {},
   "outputs": [],
   "source": [
    "data_2u = np.array(pd.read_csv(\"data/two_clusters_unblanaced.csv\"))\n",
    "plot = Voronoi(data_2u)"
   ]
  },
  {
   "cell_type": "code",
   "execution_count": null,
   "metadata": {},
   "outputs": [],
   "source": [
    "plot = Voronoi(data_2u, kmeans=BasicKMeans(2, data_2u))"
   ]
  },
  {
   "cell_type": "code",
   "execution_count": null,
   "metadata": {},
   "outputs": [],
   "source": [
    "plot = Voronoi(data_2u, kmeans=BasicKMeans_2(2, data_2u))"
   ]
  },
  {
   "cell_type": "markdown",
   "metadata": {},
   "source": [
    "### An impossible data set\n",
    "\n",
    "We'll load a data set that is not meant for $k$-means at all. (Why???)"
   ]
  },
  {
   "cell_type": "code",
   "execution_count": null,
   "metadata": {},
   "outputs": [],
   "source": [
    "data_imp = np.array(pd.read_csv(\"data/impossible.csv\"))\n",
    "plot = Voronoi(data_imp)"
   ]
  },
  {
   "cell_type": "markdown",
   "metadata": {},
   "source": [
    "It would reasonable to say that are either $2$, $3$, $4$, $5$, or even $6$ clusters. "
   ]
  },
  {
   "cell_type": "code",
   "execution_count": null,
   "metadata": {},
   "outputs": [],
   "source": [
    "plot = Voronoi(data_imp, kmeans=BasicKMeans(2, data_imp))"
   ]
  },
  {
   "cell_type": "code",
   "execution_count": null,
   "metadata": {},
   "outputs": [],
   "source": [
    "plot = Voronoi(data_imp, kmeans=BasicKMeans(3, data_imp))"
   ]
  },
  {
   "cell_type": "code",
   "execution_count": null,
   "metadata": {},
   "outputs": [],
   "source": [
    "plot = Voronoi(data_imp, kmeans=BasicKMeans(4, data_imp))"
   ]
  },
  {
   "cell_type": "code",
   "execution_count": null,
   "metadata": {},
   "outputs": [],
   "source": [
    "plot = Voronoi(data_imp, kmeans=BasicKMeans(5, data_imp))"
   ]
  },
  {
   "cell_type": "code",
   "execution_count": null,
   "metadata": {},
   "outputs": [],
   "source": [
    "plot = Voronoi(data_imp, kmeans=BasicKMeans(6, data_imp))"
   ]
  },
  {
   "cell_type": "markdown",
   "metadata": {},
   "source": [
    "This is hopeless... This just happens to be an example that would be handled very well with *single-linkage clustering*.\n",
    "\n",
    "While $k$-means is powerful, it shouldn't be used on *every* data set. "
   ]
  },
  {
   "cell_type": "markdown",
   "metadata": {},
   "source": [
    "## Elbow method"
   ]
  },
  {
   "cell_type": "markdown",
   "metadata": {},
   "source": [
    "In all of our examples, it was somewhat easy to see how many clusters there were 'supposed' to be.\n",
    "\n",
    "It would be nice if we knew beforehand how many clusters there are in the data.\n",
    "\n",
    "This is ill-posed, so there is no perfect way, but one way to figure out a good choice for $k$ is with the elbow method. "
   ]
  },
  {
   "cell_type": "markdown",
   "metadata": {},
   "source": [
    "Important to the elbow method is the Within-Cluster Sum of Squares (WCSS):\n",
    "$$\n",
    "    \\text{WCSS} = \\sum_{i=1}^k \\sum_{x \\in C_i} \\| x - c_i \\|^2,\n",
    "$$\n",
    "\n",
    "where $C_i$ is the $i^{\\text{th}}$ cluster and $c_i$ is the centroid associated with the $i^{\\text{th}}$ cluster. "
   ]
  },
  {
   "cell_type": "markdown",
   "metadata": {},
   "source": [
    "#### What is WCSS?\n",
    "\n",
    "The idea behind WCSS is that smaller is better. However, if each data point is its own centroid, then $\\mathrm{WCSS} = 0$. \n",
    "\n",
    "Thus, the elbow method ultimately seeks a balance between low WCSS (lots of clusters) and low $k$ values. "
   ]
  },
  {
   "cell_type": "markdown",
   "metadata": {},
   "source": [
    "Let's create some code to compute WCSS. The input will be our data array and our kmeans data."
   ]
  },
  {
   "cell_type": "code",
   "execution_count": null,
   "metadata": {},
   "outputs": [],
   "source": [
    "def WCSS(data, kmeans):\n",
    "    from functools import reduce\n",
    "\n",
    "    ord_cents = map(lambda i: kmeans.cluster_centers_[i], kmeans.labels_)\n",
    "    tups = zip(data, ord_cents)\n",
    "    dist2 = lambda t: np.linalg.norm(t[0] - t[1])**2\n",
    "    \n",
    "    return reduce(lambda x, y: x + dist2(y), tups, 0)"
   ]
  },
  {
   "cell_type": "markdown",
   "metadata": {},
   "source": [
    "The elbow method looks at the plot of WCSS values against $k$ values and looks for an 'elbow' in the graph.\n",
    "\n",
    "An 'elbow' is not rigoriously defined, so again the elbow method does not always work. \n",
    "\n",
    "An 'elbow' is the point at which the graph changes slope most sharply, and it should be signifcant."
   ]
  },
  {
   "cell_type": "markdown",
   "metadata": {},
   "source": [
    "Let's build code to look at an elbow plot."
   ]
  },
  {
   "cell_type": "code",
   "execution_count": null,
   "metadata": {},
   "outputs": [],
   "source": [
    "def ElbowMethodPlot(data, N):\n",
    "    import matplotlib.pyplot as plt\n",
    "\n",
    "    KMEANS = [BasicKMeans(k, data) for k in range(1, N + 1)]\n",
    "    WCSS_vals = [WCSS(data, kmeans) for kmeans in KMEANS]\n",
    "\n",
    "    plt.figure(1)\n",
    "    plt.grid()\n",
    "    plt.plot(WCSS_vals)\n",
    "    plt.xticks(ticks=range(N), labels=range(1, N+1))\n",
    "    return plt"
   ]
  },
  {
   "cell_type": "markdown",
   "metadata": {},
   "source": [
    "Let's look at the first data set `three_clusters_clear.csv` which is stored in `data_3c`."
   ]
  },
  {
   "cell_type": "code",
   "execution_count": null,
   "metadata": {},
   "outputs": [],
   "source": [
    "plot = ElbowMethodPlot(data_3c, 10)"
   ]
  },
  {
   "cell_type": "markdown",
   "metadata": {},
   "source": [
    "The 'elbow' occurs at $k=3$ suggesting that there are 'supposed' to be $3$ clusters."
   ]
  },
  {
   "cell_type": "code",
   "execution_count": null,
   "metadata": {},
   "outputs": [],
   "source": [
    "plot = Voronoi(data_3c)"
   ]
  },
  {
   "cell_type": "code",
   "execution_count": null,
   "metadata": {},
   "outputs": [],
   "source": [
    "plot = ElbowMethodPlot(data_3v, 10)"
   ]
  },
  {
   "cell_type": "markdown",
   "metadata": {},
   "source": [
    "The elbow method does not always work."
   ]
  },
  {
   "cell_type": "code",
   "execution_count": null,
   "metadata": {},
   "outputs": [],
   "source": [
    "plot = ElbowMethodPlot(data_2u, 10)"
   ]
  },
  {
   "cell_type": "markdown",
   "metadata": {},
   "source": [
    "## Do it yourself \n",
    "\n",
    "There are five data sets to play around with. Feel free to use the functions here: `Voronoi`, `BasicKMeans`, `ElbowMethodPlot`.\n",
    "\n",
    "Here are some question to consider.\n",
    "1. How many clusters are there in the data? \n",
    "2. Do the clusters seem to be unambiguous? \n",
    "3. What other intrepretations are there?\n",
    "4. Does the $k$-means clustering do what you expect? Why? \n",
    "\n",
    "Discuss this with a neighbour."
   ]
  },
  {
   "cell_type": "markdown",
   "metadata": {},
   "source": [
    "Data sets:\n",
    "- `extra_1.csv`\n",
    "- `extra_2.csv`\n",
    "- `extra_3.csv`\n",
    "- `extra_4.csv`\n",
    "- `extra_5.csv`"
   ]
  }
 ],
 "metadata": {
  "kernelspec": {
   "display_name": "Python 3",
   "language": "python",
   "name": "python3"
  },
  "language_info": {
   "codemirror_mode": {
    "name": "ipython",
    "version": 3
   },
   "file_extension": ".py",
   "mimetype": "text/x-python",
   "name": "python",
   "nbconvert_exporter": "python",
   "pygments_lexer": "ipython3",
   "version": "3.12.0"
  }
 },
 "nbformat": 4,
 "nbformat_minor": 2
}
