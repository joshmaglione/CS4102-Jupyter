{
 "cells": [
  {
   "cell_type": "markdown",
   "metadata": {},
   "source": [
    "# Week 3: Least Squares Fitting (cont.)\n",
    "\n",
    "## Goals\n",
    "- Nonlinear fitting\n",
    "- Computing $r^2$ values"
   ]
  },
  {
   "cell_type": "markdown",
   "metadata": {},
   "source": [
    "## Nonlinear fitting\n",
    "\n",
    "We will take the example we looked at in class and find a parabola of best fit. \n",
    "\n",
    "Thus, we want to find coefficients for \n",
    "$$\n",
    "    y = b_0 + b_1x_1 + b_2x_2. \n",
    "$$"
   ]
  },
  {
   "cell_type": "markdown",
   "metadata": {},
   "source": [
    "The data for this example is found in `data/nonlinear_ex.csv`."
   ]
  },
  {
   "cell_type": "code",
   "execution_count": null,
   "metadata": {},
   "outputs": [],
   "source": [
    "import pandas as pd \n",
    "\n",
    "df = pd.read_csv(\"data/nonlinear_ex.csv\")\n",
    "print(df)"
   ]
  },
  {
   "cell_type": "markdown",
   "metadata": {},
   "source": [
    "Alternatively, you can run the following code to get the same data. To turn it \"on\" remove all of the `#` symbols. "
   ]
  },
  {
   "cell_type": "code",
   "execution_count": null,
   "metadata": {},
   "outputs": [],
   "source": [
    "# df = pd.DataFrame({\n",
    "#     \"x_i\" : [2.27, 5.06, 1.45, 5.89, 0.48, -0.22, 1.44, -1.77, 2.45, -1.54, 7.55, 1.76, 5.16, 3.26, 3.23, 0.85],\n",
    "#     \"y_i\" : [2.5, -16.13, 4.23, -22.46, 1.37, 0.86, 11.85, -14.71, 9.42, -14.07, -55.62, 4.45, -19.56, -2.79, 5.2, 8.09],\n",
    "# })"
   ]
  },
  {
   "cell_type": "markdown",
   "metadata": {},
   "source": [
    "Let's plot our data and verify it is what we expect. "
   ]
  },
  {
   "cell_type": "code",
   "execution_count": null,
   "metadata": {},
   "outputs": [],
   "source": [
    "import matplotlib.pyplot as plt \n",
    "\n",
    "fig, ax = plt.subplots()\n",
    "ax.scatter(df[\"x_i\"], df[\"y_i\"])\n",
    "ax.grid()"
   ]
  },
  {
   "cell_type": "markdown",
   "metadata": {},
   "source": [
    "Good. It appears that a parabola might be good enough to describe the general trend of the data. \n",
    "\n",
    "Let's try to fit the parabola:\n",
    "$$\n",
    "    y = b_0 + b_1x + b_2x^2\n",
    "$$"
   ]
  },
  {
   "cell_type": "markdown",
   "metadata": {},
   "source": [
    "From the lecture, we want to *instead* look for the plane of best fit: \n",
    "$$\n",
    "    y = b_0 + b_1x + b_2z,\n",
    "$$\n",
    "\n",
    "where $z=x^2$.\n",
    "\n",
    "This means we need a new columns for $z$, and we know how to get it from $x_i$.\n",
    "\n",
    "We build a new data frame."
   ]
  },
  {
   "cell_type": "code",
   "execution_count": null,
   "metadata": {},
   "outputs": [],
   "source": [
    "df2 = pd.DataFrame({\n",
    "    \"x_i\" : df[\"x_i\"],\n",
    "    \"x_i^2\" : [x**2 for x in df[\"x_i\"]],\n",
    "    \"y_i\" : df[\"y_i\"],\n",
    "})\n",
    "print(df2)"
   ]
  },
  {
   "cell_type": "markdown",
   "metadata": {},
   "source": [
    "Now we compute the plane of best fit."
   ]
  },
  {
   "cell_type": "markdown",
   "metadata": {},
   "source": [
    "First we build the matrix $X$"
   ]
  },
  {
   "cell_type": "code",
   "execution_count": null,
   "metadata": {},
   "outputs": [],
   "source": [
    "import numpy as np \n",
    "\n",
    "X = np.array([\n",
    "    [1]*len(df2),\n",
    "    df2[\"x_i\"],\n",
    "    df2[\"x_i^2\"],\n",
    "]).T\n",
    "print(X)"
   ]
  },
  {
   "cell_type": "markdown",
   "metadata": {},
   "source": [
    "And then we build the matrix (or column vector) $Y$."
   ]
  },
  {
   "cell_type": "code",
   "execution_count": null,
   "metadata": {},
   "outputs": [],
   "source": [
    "Y = np.array([df2[\"y_i\"]]).T\n",
    "print(Y)"
   ]
  },
  {
   "cell_type": "markdown",
   "metadata": {},
   "source": [
    "Recall the formula for the $b_i$ values: \n",
    "$$\n",
    "    X^{\\mathrm{t}}XB = X^{\\mathrm{t}} Y.\n",
    "$$"
   ]
  },
  {
   "cell_type": "code",
   "execution_count": null,
   "metadata": {},
   "outputs": [],
   "source": [
    "B = np.linalg.inv(X.T @ X) @ X.T @ Y \n",
    "print(B)"
   ]
  },
  {
   "cell_type": "markdown",
   "metadata": {},
   "source": [
    "Therefore the *plane* of best for the data frame `df2` is \n",
    "$$\n",
    "    y = 1.30 + 6.03x - 1.81z.\n",
    "$$\n",
    "\n",
    "Since $z=x^2$, the *parabola* of best fit for the data frame `df` is \n",
    "$$\n",
    "    y = 1.30 + 6.03x - 1.81x^2. \n",
    "$$"
   ]
  },
  {
   "cell_type": "markdown",
   "metadata": {},
   "source": [
    "**Note.** We declared the variables $x$ and $z$ to be independent---that is how we got the plane of best fit; however this is not the case, and that is fine. The data in `df2` have a higher redundancy than the data in `df`."
   ]
  },
  {
   "cell_type": "markdown",
   "metadata": {},
   "source": [
    "Now let's plot the scatter plot together with our parabola.\n",
    "\n",
    "First, we get all of our data in order to plot the parabola."
   ]
  },
  {
   "cell_type": "code",
   "execution_count": null,
   "metadata": {},
   "outputs": [],
   "source": [
    "xs = np.linspace(-2, 8, 100)\n",
    "ys = B[0,0] + B[1,0]*xs + B[2,0]*xs**2"
   ]
  },
  {
   "cell_type": "code",
   "execution_count": null,
   "metadata": {},
   "outputs": [],
   "source": [
    "fig, ax = plt.subplots()\n",
    "ax.scatter(df[\"x_i\"], df[\"y_i\"])\n",
    "ax.plot(xs, ys, c=\"orange\")\n",
    "ax.grid()"
   ]
  },
  {
   "cell_type": "markdown",
   "metadata": {},
   "source": [
    "Not bad! 😃"
   ]
  },
  {
   "cell_type": "markdown",
   "metadata": {},
   "source": [
    "## Computing $r^2$ values"
   ]
  },
  {
   "cell_type": "markdown",
   "metadata": {},
   "source": [
    "We need to compute distances in order to get the $r^2$ value, so we will define an *anonymous function*.\n",
    "\n",
    "#### Anonymous functions\n",
    "\n",
    "In Python, we can use the word `lambda` to build such functions. \n",
    "\n",
    "Let's start off small."
   ]
  },
  {
   "cell_type": "code",
   "execution_count": null,
   "metadata": {},
   "outputs": [],
   "source": [
    "f = lambda x: x + 1"
   ]
  },
  {
   "cell_type": "markdown",
   "metadata": {},
   "source": [
    "We have defined a function, called `f`, that takes input `x` and returns `x + 1`. \n",
    "\n",
    "If we evaluate `f` on $3$, we get $4$:"
   ]
  },
  {
   "cell_type": "code",
   "execution_count": null,
   "metadata": {},
   "outputs": [],
   "source": [
    "f(3)"
   ]
  },
  {
   "cell_type": "markdown",
   "metadata": {},
   "source": [
    "We can evaluate `f` on any object we want, but we may get an error."
   ]
  },
  {
   "cell_type": "code",
   "execution_count": null,
   "metadata": {},
   "outputs": [],
   "source": [
    "f(3.1415)\n",
    "# f(\"hello world\")"
   ]
  },
  {
   "cell_type": "markdown",
   "metadata": {},
   "source": [
    "We can define different kinds of functions this way.\n",
    "\n",
    "For example, the following function takes a string and returns a set of words."
   ]
  },
  {
   "cell_type": "code",
   "execution_count": null,
   "metadata": {},
   "outputs": [],
   "source": [
    "sen_to_words = lambda s: set(s.replace('.', '').replace('!', '').split(' '))\n",
    "\n",
    "print(sen_to_words(\"Nitwit! Blubber! Oddment! Tweak!\"))\n",
    "print(sen_to_words(\"Repetition legitimizes. Repetition legitimizes.\"))"
   ]
  },
  {
   "cell_type": "markdown",
   "metadata": {},
   "source": [
    "Now let's create anonymous functions, so that we may easily determine the $r^2$ values.\n",
    "\n",
    "Recall that \n",
    "$$\n",
    "    r^2 = \\dfrac{SSR}{SST} = \\dfrac{\\|\\widehat{Y} - \\overline{Y}\\|^2}{\\| Y - \\overline{Y}\\|^2}. \n",
    "$$\n",
    "\n",
    "First we will address $\\overline{Y}$."
   ]
  },
  {
   "cell_type": "markdown",
   "metadata": {},
   "source": [
    "We have that \n",
    "$$\n",
    "    \\overline{Y} = \\overline{y} \\begin{pmatrix} \n",
    "        1 \\\\ 1 \\\\ \\vdots \\\\ 1 \n",
    "    \\end{pmatrix} ,\n",
    "$$\n",
    "\n",
    "where \n",
    "$$\n",
    "    \\overline{y} = \\dfrac{1}{n}\\sum_{i=1}^n y_i. \n",
    "$$"
   ]
  },
  {
   "cell_type": "markdown",
   "metadata": {},
   "source": [
    "We will create a function to turn a column from our `pandas` data frame to a `numpy` column vector. \n",
    "\n",
    "We will use this more than once, so we are \"factoring it out\" from each individual instance."
   ]
  },
  {
   "cell_type": "code",
   "execution_count": null,
   "metadata": {},
   "outputs": [],
   "source": [
    "np_col_vec = lambda d: np.array([d]).T \n",
    "print(df[\"x_i\"])\n",
    "print(np_col_vec(df[\"x_i\"]))"
   ]
  },
  {
   "cell_type": "code",
   "execution_count": null,
   "metadata": {},
   "outputs": [],
   "source": [
    "mean = lambda d: sum(d)/len(d)                          # y bar\n",
    "mean_col = lambda d: np_col_vec([mean(d)]*len(d))        # Y bar \n",
    "Y_bar = mean_col(df[\"y_i\"])\n",
    "print(Y_bar)\n"
   ]
  },
  {
   "cell_type": "markdown",
   "metadata": {},
   "source": [
    "Next we need to compute $\\widehat{Y}$, which is given by \n",
    "$$\n",
    "    \\widehat{y}_i = b_0 + b_1x_{i1} + b_2 x_{i2} + \\cdots + b_{p-1}x_{i,p-1}, \n",
    "$$\n",
    "provided we are fitting a hyperplane.\n",
    "\n",
    "In our above example, we are fitting a parabola, so let's use that for $\\widehat{Y}$."
   ]
  },
  {
   "cell_type": "markdown",
   "metadata": {},
   "source": [
    "We'll set up an anonymous function to get $\\widehat{Y}$ using `map`."
   ]
  },
  {
   "cell_type": "code",
   "execution_count": null,
   "metadata": {},
   "outputs": [],
   "source": [
    "fit_para = lambda x: B[0,0] + B[1,0]*x + B[2,0]*x**2\n",
    "print(list(map(fit_para, df[\"x_i\"])))\n",
    "fit_col = lambda fit, d: np_col_vec(list(map(fit, d)))\n",
    "Y_hat = fit_col(fit_para, df[\"x_i\"])\n",
    "print(Y_hat)"
   ]
  },
  {
   "cell_type": "markdown",
   "metadata": {},
   "source": [
    "And finally, our vector $Y$"
   ]
  },
  {
   "cell_type": "code",
   "execution_count": null,
   "metadata": {},
   "outputs": [],
   "source": [
    "Y = np_col_vec(df[\"y_i\"])\n",
    "print(Y)"
   ]
  },
  {
   "cell_type": "markdown",
   "metadata": {},
   "source": [
    "In order to compute $r^2$, we need to compute the sqaure of the (Euclidean) distance in $\\R^n$. \n",
    "\n",
    "Let's write another function for that."
   ]
  },
  {
   "cell_type": "code",
   "execution_count": null,
   "metadata": {},
   "outputs": [],
   "source": [
    "dist2 = lambda u, v: sum((w[0])**2 for w in u - v)       # squared distance"
   ]
  },
  {
   "cell_type": "markdown",
   "metadata": {},
   "source": [
    "**Note:** In the above code we could use just `w` instead of `w[0]`. The former is adding the row vectors, and the latter is adding the zeroth entry of the row vectors. Thus, the output of the former is a vector, and the output of the latter is a scalar. "
   ]
  },
  {
   "cell_type": "markdown",
   "metadata": {},
   "source": [
    "Now we compute the $r^2$ value."
   ]
  },
  {
   "cell_type": "code",
   "execution_count": null,
   "metadata": {},
   "outputs": [],
   "source": [
    "r2 = dist2(Y_hat, Y_bar)/dist2(Y, Y_bar)\n",
    "print(r2)"
   ]
  },
  {
   "cell_type": "markdown",
   "metadata": {},
   "source": [
    "Our curve fits *very well*."
   ]
  },
  {
   "cell_type": "markdown",
   "metadata": {},
   "source": [
    "## Bonus Fun :)"
   ]
  },
  {
   "cell_type": "markdown",
   "metadata": {},
   "source": [
    "With the same data, let's fit a line and see the $r^2$ valued. \n",
    "\n",
    "Let $r^2_c$ be the $r^2$ value for the curve above, so $r^2_c \\approx 0.97$, and let $r^2_{\\ell}$ be the $r^2$ of the line we will compute. \n",
    "\n",
    "**Question.** What do we expect the for the value of $r^2_{\\ell}$ compared to $r^2_c$? \n",
    "- Similar or quite different? \n",
    "- Which should be greater? "
   ]
  },
  {
   "cell_type": "markdown",
   "metadata": {},
   "source": [
    "We know all the equations by now, but instead of $b_i$ and the matrix `B`, we will use $\\ell_i$ and a matrix `L`."
   ]
  },
  {
   "cell_type": "code",
   "execution_count": null,
   "metadata": {},
   "outputs": [],
   "source": [
    "ones = np_col_vec([1]*len(df))\n",
    "x_vec = np_col_vec(df[\"x_i\"])\n",
    "XX = np.concatenate((ones, x_vec), axis=1)\n",
    "print(X)\n",
    "L = np.linalg.inv(X.T @ X) @ X.T @ Y\n",
    "print(L)"
   ]
  },
  {
   "cell_type": "markdown",
   "metadata": {},
   "source": [
    "We can quickly plot our new line"
   ]
  },
  {
   "cell_type": "code",
   "execution_count": null,
   "metadata": {},
   "outputs": [],
   "source": [
    "xxs = np.linspace(-2, 8, 2)\n",
    "yys = L[0,0] + L[1,0]*xxs\n",
    "fig, ax = plt.subplots()\n",
    "ax.scatter(df[\"x_i\"], df[\"y_i\"])\n",
    "ax.plot(xxs, yys, c=\"orange\")\n",
    "ax.grid()"
   ]
  },
  {
   "cell_type": "markdown",
   "metadata": {},
   "source": [
    "We can use the above functions to compute the $r^2$ values now."
   ]
  },
  {
   "cell_type": "code",
   "execution_count": null,
   "metadata": {},
   "outputs": [],
   "source": [
    "fit_line = lambda x: L[0,0] + L[1,0]*x\n",
    "YY_hat = fit_col(fit_line, df[\"x_i\"])\n",
    "r2_l = dist2(YY_hat, Y_bar)/dist2(Y, Y_bar)\n",
    "print(r2_l)"
   ]
  },
  {
   "cell_type": "markdown",
   "metadata": {},
   "source": [
    "So $r^2_{\\ell} \\approx 0.32$, which is much worse than the previous $r^2$ value. "
   ]
  }
 ],
 "metadata": {
  "kernelspec": {
   "display_name": "Python 3",
   "language": "python",
   "name": "python3"
  },
  "language_info": {
   "codemirror_mode": {
    "name": "ipython",
    "version": 3
   },
   "file_extension": ".py",
   "mimetype": "text/x-python",
   "name": "python",
   "nbconvert_exporter": "python",
   "pygments_lexer": "ipython3",
   "version": "3.11.3"
  },
  "orig_nbformat": 4
 },
 "nbformat": 4,
 "nbformat_minor": 2
}
