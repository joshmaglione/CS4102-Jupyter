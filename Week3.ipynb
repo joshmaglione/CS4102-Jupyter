{
 "cells": [
  {
   "cell_type": "markdown",
   "metadata": {},
   "source": [
    "# Week 3: Least Squares Fitting (cont.)\n",
    "\n",
    "## Goals\n",
    "- Nonlinear fitting\n",
    "- Computing $r^2$ values"
   ]
  },
  {
   "cell_type": "markdown",
   "metadata": {},
   "source": [
    "## Nonlinear fitting\n",
    "\n",
    "We will take the example we looked at in class and find a parabola of best fit. \n",
    "\n",
    "Thus, we want to find coefficients for \n",
    "$$\n",
    "    y = b_0 + b_1x_1 + b_2x_2. \n",
    "$$"
   ]
  },
  {
   "cell_type": "markdown",
   "metadata": {},
   "source": [
    "The data for this example is found in `data/nonlinear_ex.csv`."
   ]
  },
  {
   "cell_type": "code",
   "execution_count": null,
   "metadata": {},
   "outputs": [],
   "source": [
    "import pandas as pd \n",
    "\n",
    "df = pd.read_csv(\"data/nonlinear_ex.csv\")\n",
    "print(df)"
   ]
  },
  {
   "cell_type": "markdown",
   "metadata": {},
   "source": [
    "Alternatively, you can run the following code to get the same data. To turn it \"on\" remove all of the `#` symbols. "
   ]
  },
  {
   "cell_type": "code",
   "execution_count": null,
   "metadata": {},
   "outputs": [],
   "source": [
    "# df = pd.DataFrame({\n",
    "#     \"x_i\" : [2.27, 5.06, 1.45, 5.89, 0.48, -0.22, 1.44, -1.77, 2.45, -1.54, 7.55, 1.76, 5.16, 3.26, 3.23, 0.85],\n",
    "#     \"y_i\" : [2.5, -16.13, 4.23, -22.46, 1.37, 0.86, 11.85, -14.71, 9.42, -14.07, -55.62, 4.45, -19.56, -2.79, 5.2, 8.09],\n",
    "# })"
   ]
  },
  {
   "cell_type": "markdown",
   "metadata": {},
   "source": [
    "Let's plot our data and verify it is what we expect. "
   ]
  },
  {
   "cell_type": "code",
   "execution_count": null,
   "metadata": {},
   "outputs": [],
   "source": [
    "import matplotlib.pyplot as plt \n",
    "\n",
    "fig, ax = plt.subplots()\n",
    "ax.scatter(df[\"x_i\"], df[\"y_i\"])\n",
    "ax.grid()"
   ]
  },
  {
   "cell_type": "markdown",
   "metadata": {},
   "source": [
    "Good. It appears that a parabola might be good enough to describe the general trend of the data. \n",
    "\n",
    "Let's try to fit the parabola:\n",
    "$$\n",
    "    y = b_0 + b_1x + b_2x^2\n",
    "$$"
   ]
  },
  {
   "cell_type": "markdown",
   "metadata": {},
   "source": [
    "From the lecture, we want to *instead* look for the plane of best fit: \n",
    "$$\n",
    "    y = b_0 + b_1x + b_2z,\n",
    "$$\n",
    "\n",
    "where $z=x^2$.\n",
    "\n",
    "This means we need a new columns for $z$, and we know how to get it from $x_i$.\n",
    "\n",
    "We build a new data frame."
   ]
  },
  {
   "cell_type": "code",
   "execution_count": null,
   "metadata": {},
   "outputs": [],
   "source": [
    "df2 = pd.DataFrame({\n",
    "    \"x_i\" : df[\"x_i\"],\n",
    "    \"x_i^2\" : [x**2 for x in df[\"x_i\"]],\n",
    "    \"y_i\" : df[\"y_i\"],\n",
    "})\n",
    "print(df2)"
   ]
  },
  {
   "cell_type": "markdown",
   "metadata": {},
   "source": [
    "Now we compute the plane of best fit."
   ]
  },
  {
   "cell_type": "markdown",
   "metadata": {},
   "source": [
    "First we build the matrix $X$"
   ]
  },
  {
   "cell_type": "code",
   "execution_count": null,
   "metadata": {},
   "outputs": [],
   "source": [
    "import numpy as np \n",
    "\n",
    "X = np.array([\n",
    "    [1]*len(df2),\n",
    "    df2[\"x_i\"],\n",
    "    df2[\"x_i^2\"],\n",
    "]).T\n",
    "print(X)"
   ]
  },
  {
   "cell_type": "markdown",
   "metadata": {},
   "source": [
    "And then we build the matrix (or column vector) $Y$."
   ]
  },
  {
   "cell_type": "code",
   "execution_count": null,
   "metadata": {},
   "outputs": [],
   "source": [
    "Y = np.array([df2[\"y_i\"]]).T\n",
    "print(Y)"
   ]
  },
  {
   "cell_type": "markdown",
   "metadata": {},
   "source": [
    "Recall the formula for the $b_i$ values: \n",
    "$$\n",
    "    X^{\\mathrm{t}}XB = X^{\\mathrm{t}} Y.\n",
    "$$"
   ]
  },
  {
   "cell_type": "code",
   "execution_count": null,
   "metadata": {},
   "outputs": [],
   "source": [
    "B = np.linalg.inv(X.T @ X) @ X.T @ Y \n",
    "print(B)"
   ]
  },
  {
   "cell_type": "markdown",
   "metadata": {},
   "source": [
    "Therefore the *plane* of best for the data frame `df2` is \n",
    "$$\n",
    "    y = 1.30 + 6.03x - 1.81z.\n",
    "$$\n",
    "\n",
    "Since $z=x^2$, the *parabola* of best fit for the data frame `df` is \n",
    "$$\n",
    "    y = 1.30 + 6.03x - 1.81x^2. \n",
    "$$"
   ]
  },
  {
   "cell_type": "markdown",
   "metadata": {},
   "source": [
    "**Note.** We declared the variables $x$ and $z$ to be independent---that is how we got the plane of best fit; however this is not the case, and that is fine. The data in `df2` have a higher redundancy than the data in `df`."
   ]
  },
  {
   "cell_type": "markdown",
   "metadata": {},
   "source": [
    "Now let's plot the scatter plot together with our parabola.\n",
    "\n",
    "First, we get all of our data in order to plot the parabola."
   ]
  },
  {
   "cell_type": "code",
   "execution_count": null,
   "metadata": {},
   "outputs": [],
   "source": [
    "xs = np.linspace(-2, 8, 100)\n",
    "ys = B[0,0] + B[1,0]*xs + B[2,0]*xs**2"
   ]
  },
  {
   "cell_type": "code",
   "execution_count": null,
   "metadata": {},
   "outputs": [],
   "source": [
    "fig, ax = plt.subplots()\n",
    "ax.scatter(df[\"x_i\"], df[\"y_i\"])\n",
    "ax.plot(xs, ys, c=\"orange\")\n",
    "ax.grid()"
   ]
  },
  {
   "cell_type": "markdown",
   "metadata": {},
   "source": [
    "Not bad! 😃"
   ]
  },
  {
   "cell_type": "markdown",
   "metadata": {},
   "source": [
    "## Computing $r^2$ values"
   ]
  },
  {
   "cell_type": "markdown",
   "metadata": {},
   "source": []
  }
 ],
 "metadata": {
  "kernelspec": {
   "display_name": "Python 3",
   "language": "python",
   "name": "python3"
  },
  "language_info": {
   "codemirror_mode": {
    "name": "ipython",
    "version": 3
   },
   "file_extension": ".py",
   "mimetype": "text/x-python",
   "name": "python",
   "nbconvert_exporter": "python",
   "pygments_lexer": "ipython3",
   "version": "3.11.3"
  },
  "orig_nbformat": 4
 },
 "nbformat": 4,
 "nbformat_minor": 2
}
