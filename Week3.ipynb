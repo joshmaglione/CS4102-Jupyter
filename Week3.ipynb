{
 "cells": [
  {
   "cell_type": "markdown",
   "metadata": {},
   "source": [
    "# Week 3: Least Squares Fitting (cont.)\n",
    "\n",
    "## Goals\n",
    "- Nonlinear fitting\n",
    "- Computing $r^2$ values"
   ]
  },
  {
   "cell_type": "markdown",
   "metadata": {},
   "source": [
    "### Nonlinear fitting\n",
    "\n",
    "We will take the example we looked at in class and find a parabola of best fit. \n",
    "\n",
    "Thus, we want to find coefficients for \n",
    "$$\n",
    "    y = b_0 + b_1x_1 + b_2x_2. \n",
    "$$"
   ]
  },
  {
   "cell_type": "markdown",
   "metadata": {},
   "source": [
    "The data for this example is found in `data/nonlinear_ex.csv`."
   ]
  },
  {
   "cell_type": "code",
   "execution_count": null,
   "metadata": {},
   "outputs": [],
   "source": []
  }
 ],
 "metadata": {
  "kernelspec": {
   "display_name": "Python 3",
   "language": "python",
   "name": "python3"
  },
  "language_info": {
   "codemirror_mode": {
    "name": "ipython",
    "version": 3
   },
   "file_extension": ".py",
   "mimetype": "text/x-python",
   "name": "python",
   "nbconvert_exporter": "python",
   "pygments_lexer": "ipython3",
   "version": "3.11.3"
  },
  "orig_nbformat": 4
 },
 "nbformat": 4,
 "nbformat_minor": 2
}
