{
 "cells": [
  {
   "cell_type": "markdown",
   "metadata": {},
   "source": [
    "# Week 3: Least Squares Fitting (cont.)\n",
    "\n",
    "## Goals\n",
    "- Nonlinear fitting\n",
    "- Computing $r^2$ values"
   ]
  },
  {
   "cell_type": "markdown",
   "metadata": {},
   "source": [
    "### Nonlinear fitting\n",
    "\n",
    "We will take the example we looked at in class and find a parabola of best fit. \n",
    "\n",
    "Thus, we want to find coefficients for \n",
    "$$\n",
    "    y = b_0 + b_1x_1 + b_2x_2. \n",
    "$$"
   ]
  },
  {
   "cell_type": "markdown",
   "metadata": {},
   "source": []
  }
 ],
 "metadata": {
  "language_info": {
   "name": "python"
  },
  "orig_nbformat": 4
 },
 "nbformat": 4,
 "nbformat_minor": 2
}
