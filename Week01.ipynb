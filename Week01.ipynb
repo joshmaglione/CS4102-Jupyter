{
 "cells": [
  {
   "cell_type": "markdown",
   "id": "0f3bbefa-4453-4118-97a4-53c2bf4fb7e2",
   "metadata": {},
   "source": [
    "# Week 1: Least Squares Fitting\n",
    "\n",
    "## Goals\n",
    "- Learn how to get data into Python via [pandas](https://pandas.pydata.org/),\n",
    "- Basic manipulations of data,\n",
    "- Construct a least squares fitting in a few ways"
   ]
  },
  {
   "cell_type": "markdown",
   "id": "88b12fdd-19e8-4058-b2f8-0602d665f29a",
   "metadata": {},
   "source": [
    "## Getting Started\n",
    "\n",
    "Python is a general-purpose programming language. According to [TIOBE](https://www.tiobe.com/tiobe-index/), Python is the most popular programming language (as of September 2024). \n",
    "\n",
    "Python has built in functions:"
   ]
  },
  {
   "cell_type": "code",
   "execution_count": null,
   "id": "c0ffe88d-aedf-418b-89bb-13076780048b",
   "metadata": {},
   "outputs": [],
   "source": [
    "a = [2, 4, 4, 5, 8]     # A Python list\n",
    "sum(a)                  # Sums the entries of a"
   ]
  },
  {
   "cell_type": "markdown",
   "id": "56da42b4-1bb2-474a-aae1-fc470380bc1e",
   "metadata": {},
   "source": [
    "Python has a large ecosystem of libraries (called modules) and communities:"
   ]
  },
  {
   "cell_type": "code",
   "execution_count": null,
   "id": "e5a42291-7994-4474-be99-5a159cb61033",
   "metadata": {},
   "outputs": [],
   "source": [
    "import pandas as pd     # Python code for loading modules\n",
    "print(pd.__version__)   # Checking the version of pandas"
   ]
  },
  {
   "cell_type": "markdown",
   "id": "2cef5e6b-eeb1-44ab-842e-f24e1e60bed8",
   "metadata": {},
   "source": [
    "If you want to brush up on your Python skills, there are a variety of tutorials online:\n",
    "- [learnpython.org](https://www.learnpython.org/),\n",
    "- [w3schools.com/python](https://www.w3schools.com/python/),\n",
    "- and many more..."
   ]
  },
  {
   "cell_type": "markdown",
   "id": "dd045d4d-3f97-481d-96b3-32ec7feab866",
   "metadata": {},
   "source": [
    "## Basics"
   ]
  },
  {
   "cell_type": "markdown",
   "id": "ae0f2840-c550-47f8-bb4f-5d937ea2650b",
   "metadata": {},
   "source": [
    "- Add together an integer and a float"
   ]
  },
  {
   "cell_type": "code",
   "execution_count": null,
   "id": "22b2e0a1-54e6-4f93-b4b9-880aad55c15a",
   "metadata": {},
   "outputs": [],
   "source": [
    "1 + 3.2"
   ]
  },
  {
   "cell_type": "markdown",
   "id": "80ea09a7-578d-4fa9-bcdc-72dcb21d7ef5",
   "metadata": {},
   "source": [
    "- \"Add\" (or concatenate) two strings"
   ]
  },
  {
   "cell_type": "code",
   "execution_count": null,
   "id": "e352bb29-bcda-4d6b-95dc-7b83c4c1ab9e",
   "metadata": {},
   "outputs": [],
   "source": [
    "\"hello\" + \" world\""
   ]
  },
  {
   "cell_type": "markdown",
   "id": "0575e51a-516b-4626-b850-789d688bd268",
   "metadata": {
    "editable": true,
    "slideshow": {
     "slide_type": ""
    },
    "tags": []
   },
   "source": [
    "- Repeat strings by multiplying an integer with a string"
   ]
  },
  {
   "cell_type": "code",
   "execution_count": null,
   "id": "79e056ca-fbf1-443f-9575-bbf08c5559c0",
   "metadata": {},
   "outputs": [],
   "source": [
    "5*\"hello \""
   ]
  },
  {
   "cell_type": "markdown",
   "id": "86cd2ac2-b83a-4959-baf9-b9dba1beb20a",
   "metadata": {},
   "source": [
    "- Convert integers to strings"
   ]
  },
  {
   "cell_type": "code",
   "execution_count": null,
   "id": "b597e9a5-65ad-461b-9d7b-2139a8160df6",
   "metadata": {},
   "outputs": [],
   "source": [
    "str(365*24*60) + \" minutes per year\" "
   ]
  },
  {
   "cell_type": "markdown",
   "id": "b02f4cd1-2c8a-4904-ab3b-665bb2d2c98d",
   "metadata": {},
   "source": [
    "- Convert some strings to integers"
   ]
  },
  {
   "cell_type": "code",
   "execution_count": null,
   "id": "e6c0b48a-cf44-4925-95f6-7ffc19d5d455",
   "metadata": {},
   "outputs": [],
   "source": [
    "int(\"4\" + \"0\") + 2"
   ]
  },
  {
   "cell_type": "code",
   "execution_count": null,
   "id": "664e885c-1929-49a2-b764-acde54c9e388",
   "metadata": {},
   "outputs": [],
   "source": [
    "# int(\"one\")"
   ]
  },
  {
   "cell_type": "markdown",
   "id": "18b1a274-7552-4ac3-a8f8-0a360e5cbae2",
   "metadata": {},
   "source": [
    "## Our first example"
   ]
  },
  {
   "cell_type": "markdown",
   "id": "1aff2339-f1cf-489f-8644-b828d717978b",
   "metadata": {},
   "source": [
    "There are seemingly countless ways to get data into a useful format. \n",
    "\n",
    "We will load the file `./data/ex1.csv` directly into Python."
   ]
  },
  {
   "cell_type": "code",
   "execution_count": null,
   "id": "aa6d5159-f6c5-4289-9ecf-a6ca2e96fe2f",
   "metadata": {},
   "outputs": [],
   "source": [
    "with open(\"data/ex1.csv\", \"r\") as ex1_data:\n",
    "    print(ex1_data.read())"
   ]
  },
  {
   "cell_type": "markdown",
   "id": "c790aa90-0df6-4e7e-86cf-7e0885a1e6b6",
   "metadata": {},
   "source": [
    "We could further massage this data, but pandas takes care of all of this. Let's use it."
   ]
  },
  {
   "cell_type": "code",
   "execution_count": null,
   "id": "70ce3c3a-b5c2-4e3a-9117-1a3ef6b0d956",
   "metadata": {},
   "outputs": [],
   "source": [
    "# Imported above \"import pandas as pd\"\n",
    "df = pd.read_csv(\"data/ex1.csv\")\n",
    "print(df)"
   ]
  },
  {
   "cell_type": "markdown",
   "id": "0da12085",
   "metadata": {},
   "source": [
    "Alternatively, we can load the data by hand. To turn this \"on\" just uncomment the following code by removing all `#` symbols. "
   ]
  },
  {
   "cell_type": "code",
   "execution_count": null,
   "id": "d84119d0",
   "metadata": {},
   "outputs": [],
   "source": [
    "# df = pd.DataFrame({\n",
    "#     \"i\" : [1, 2, 3, 4, 5, 6, 7, 8, 9, 10],\n",
    "#     \"x_i\" : [30, 20, 60, 80, 40, 50, 60, 30, 70, 60],\n",
    "#     \"y_i\" : [73, 50, 128, 170, 87, 108, 135, 69, 148, 132],\n",
    "# })"
   ]
  },
  {
   "cell_type": "markdown",
   "id": "4b2ff855-2b49-49d8-8423-1114f050ab1a",
   "metadata": {},
   "source": [
    "Python starts its indexing at 0 and not at 1, so we can just ignore the column labeled 'i'. Let's just remove it."
   ]
  },
  {
   "cell_type": "code",
   "execution_count": null,
   "id": "f30c22c9-19d8-453a-a93c-1e1a5be4e5ea",
   "metadata": {},
   "outputs": [],
   "source": [
    "df = df[[\"x_i\", \"y_i\"]]\n",
    "print(df)"
   ]
  },
  {
   "cell_type": "markdown",
   "id": "c4743e5d-e18d-46d4-b6c0-018d36b03615",
   "metadata": {},
   "source": [
    "For a line of best fit, we write \n",
    "$$\n",
    "    y = b_0 + b_1x.\n",
    "$$\n",
    "\n",
    "The equations for $b_0$ and $b_1$ are given by \n",
    "$$\n",
    "\\begin{aligned} \n",
    "    nb_0 + b_1\\sum x_i &= \\sum y_i, \\\\\n",
    "\tb_0 \\sum x_i + b_1 \\sum x_i^2 &= \\sum x_iy_i. \n",
    "\\end{aligned}\n",
    "$$\n",
    "\n",
    "Let's take each quantity in part."
   ]
  },
  {
   "cell_type": "markdown",
   "id": "ef6f2fbb-a9f0-4537-bd91-251eb49e1a08",
   "metadata": {},
   "source": [
    "- $n$"
   ]
  },
  {
   "cell_type": "code",
   "execution_count": null,
   "id": "62ed38c0-d345-4994-8402-a2b600194a4b",
   "metadata": {},
   "outputs": [],
   "source": [
    "n = len(df)         # length of the columns\n",
    "print(n)"
   ]
  },
  {
   "cell_type": "markdown",
   "id": "eeefb269-a9f8-438d-b93a-8fe31c058df3",
   "metadata": {},
   "source": [
    "- $\\sum x_i$"
   ]
  },
  {
   "cell_type": "code",
   "execution_count": null,
   "id": "fe918cd5-0d73-49b2-bbf0-249156bb579d",
   "metadata": {},
   "outputs": [],
   "source": [
    "sum_x = sum(df[\"x_i\"])      # Sums all entries x_i\n",
    "print(sum_x)"
   ]
  },
  {
   "cell_type": "markdown",
   "id": "498d9f03-5bb1-49ae-99cf-fe930cedacbe",
   "metadata": {},
   "source": [
    "- $\\sum y_i$"
   ]
  },
  {
   "cell_type": "code",
   "execution_count": null,
   "id": "01ad416c-12c6-460c-847c-5eed3d6df6e0",
   "metadata": {},
   "outputs": [],
   "source": [
    "sum_y = sum(df[\"y_i\"])      # Sum all entries y_i\n",
    "print(sum_y)"
   ]
  },
  {
   "cell_type": "markdown",
   "id": "6b1bdc7e-98e1-4ed6-8efb-97a1e6e58303",
   "metadata": {},
   "source": [
    "- $\\sum x_i^2$"
   ]
  },
  {
   "cell_type": "code",
   "execution_count": null,
   "id": "43f3d937-4093-4a6e-817d-bbd77abc4c32",
   "metadata": {},
   "outputs": [],
   "source": [
    "sum_xx = sum(x**2 for x in df[\"x_i\"])\n",
    "print(sum_xx)"
   ]
  },
  {
   "cell_type": "markdown",
   "id": "8b289653-1eb4-4eb0-ba9c-69d11a8dc3f9",
   "metadata": {},
   "source": [
    "- $\\sum x_iy_i$"
   ]
  },
  {
   "cell_type": "code",
   "execution_count": null,
   "id": "67bda1ca-ac36-4e7e-ba6e-c6de7c681a3c",
   "metadata": {},
   "outputs": [],
   "source": [
    "sum_xy = sum(t[0] * t[1] for t in zip(df[\"x_i\"], df[\"y_i\"]))\n",
    "print(sum_xy)"
   ]
  },
  {
   "cell_type": "markdown",
   "id": "daf7485b-002c-4a9d-b3bb-6f53d64028a0",
   "metadata": {},
   "source": [
    "We will put these values into a matrix to solve the system of 2 linear equations. \n",
    "\n",
    "We'll use the `numpy` package for this. You can learn more about numpy [here](https://numpy.org/doc/stable/index.html)."
   ]
  },
  {
   "cell_type": "code",
   "execution_count": null,
   "id": "9f8ddd7a-fb7a-4b45-9eb1-0de5dec51494",
   "metadata": {},
   "outputs": [],
   "source": [
    "import numpy as np                              # Loading numpy\n",
    "A = np.array([[n, sum_x], [sum_x, sum_xx]])     # Numpy matrix\n",
    "b = np.array([[sum_y], [sum_xy]])\n",
    "print(A)\n",
    "print(\"\")\n",
    "print(b)"
   ]
  },
  {
   "cell_type": "markdown",
   "id": "733c1922-e9af-475a-a51f-e72c13d587f6",
   "metadata": {},
   "source": [
    "Now we use `numpy` to solve the system\n",
    "$$\n",
    "    Ax = b\n",
    "$$"
   ]
  },
  {
   "cell_type": "code",
   "execution_count": null,
   "id": "c798a39d-2d74-4f75-9234-f95a894f436c",
   "metadata": {},
   "outputs": [],
   "source": [
    "np.linalg.solve(A, b)"
   ]
  },
  {
   "cell_type": "markdown",
   "id": "9fad1e22-ee4a-4e04-ad23-bf9eba54f9fe",
   "metadata": {},
   "source": [
    "Thus, $b_0=10$ and $b_1=2$, and a line of best fit is equal to \n",
    "$$\n",
    "    y = 10 + 2x.\n",
    "$$"
   ]
  },
  {
   "cell_type": "markdown",
   "id": "1f377da7-5522-40d4-8aee-c22975cd255a",
   "metadata": {},
   "source": [
    "### Formulating as matrices\n",
    "It is significantly easier to use the matrix vocabulary to get the values for the least squares fittings.\n",
    "\n",
    "Recall we defined\n",
    "$$\n",
    "\\begin{aligned} \n",
    "    X &= \\begin{pmatrix} \n",
    "        1 & x_1 \\\\ 1 & x_2 \\\\ \\vdots & \\vdots \\\\ 1 & x_n\n",
    "    \\end{pmatrix}, & \n",
    "    Y &= \\begin{pmatrix} \n",
    "        y_1 \\\\ y_2 \\\\ \\vdots \\\\ y_n \n",
    "    \\end{pmatrix}, & \n",
    "    B &= \\begin{pmatrix} \n",
    "        b_0 \\\\ b_1\n",
    "    \\end{pmatrix}. \n",
    "\\end{aligned}\n",
    "$$"
   ]
  },
  {
   "cell_type": "markdown",
   "id": "f4d7913d-d4d0-4a86-abf5-4fb23bd11b20",
   "metadata": {},
   "source": [
    "- $X$"
   ]
  },
  {
   "cell_type": "code",
   "execution_count": null,
   "id": "b7619591-66e1-4ed9-b748-51b54a153c97",
   "metadata": {},
   "outputs": [],
   "source": [
    "X = np.array([[1]*10, df[\"x_i\"]]).transpose()\n",
    "print(X)"
   ]
  },
  {
   "cell_type": "markdown",
   "id": "0b123ac8-baf8-415f-bb98-fd9c1b3f5435",
   "metadata": {},
   "source": [
    "- $Y$ "
   ]
  },
  {
   "cell_type": "code",
   "execution_count": null,
   "id": "a3f4e3b0-e1e8-4f6d-a6e4-a53272109dcc",
   "metadata": {},
   "outputs": [],
   "source": [
    "Y = np.array([df[\"y_i\"]]).transpose()\n",
    "print(Y)"
   ]
  },
  {
   "cell_type": "markdown",
   "id": "e85ad15b-8daf-4956-9de7-9a5451c628d7",
   "metadata": {},
   "source": [
    "We can get the matrix $B$ from the following equation: \n",
    "$$\n",
    "    B = (X^{\\mathrm{t}}X)^{-1}X^{\\mathrm{t}} Y.\n",
    "$$"
   ]
  },
  {
   "cell_type": "markdown",
   "id": "5c4dca22-a224-410c-8676-98a063f5c522",
   "metadata": {},
   "source": [
    "- $A = (X^{\\mathrm{t}}X)^{-1}$"
   ]
  },
  {
   "cell_type": "code",
   "execution_count": null,
   "id": "40a16735-9b68-4d69-bb60-a4369bc3182a",
   "metadata": {},
   "outputs": [],
   "source": [
    "A_pre = np.matmul(X.transpose(), X)   # Use np.matmul to multiply\n",
    "print(\"A_pre = \\n{}\".format(A_pre))\n",
    "A = np.linalg.inv(A_pre)              # Use np.linalg.inv to invert\n",
    "print(\"A = \\n{}\".format(A))"
   ]
  },
  {
   "cell_type": "markdown",
   "id": "acf92440-61b1-4d07-89b9-01916cba634e",
   "metadata": {},
   "source": [
    "- $C = X^{\\mathrm{t}}Y$ "
   ]
  },
  {
   "cell_type": "code",
   "execution_count": null,
   "id": "7368927c-6421-429c-8595-0650dde5d6a9",
   "metadata": {},
   "outputs": [],
   "source": [
    "C = X.transpose() @ Y                # Use the '@' numpy-operator to multiply matrices\n",
    "print(C)"
   ]
  },
  {
   "cell_type": "markdown",
   "id": "35ebafbe-ce87-48aa-b465-ba19941dcda1",
   "metadata": {},
   "source": [
    "- $B = AC$"
   ]
  },
  {
   "cell_type": "code",
   "execution_count": null,
   "id": "e16fd5d2-9a81-4036-82b3-09c1d21905e1",
   "metadata": {},
   "outputs": [],
   "source": [
    "B = A @ C\n",
    "print(B)"
   ]
  },
  {
   "cell_type": "markdown",
   "id": "c61220d9-7dbb-4a30-bee1-36cb0e920d12",
   "metadata": {},
   "source": [
    "### An implementation of least squares fitting\n",
    "We can use the `statsmodels` module which has an implementation of [(ordinary) least squares](https://www.statsmodels.org/stable/examples/notebooks/generated/ols.html)."
   ]
  },
  {
   "cell_type": "code",
   "execution_count": null,
   "id": "6c9b05f1-f033-40b4-8bdd-2adcca5a6447",
   "metadata": {},
   "outputs": [],
   "source": [
    "import statsmodels.api as sm\n",
    "model = sm.OLS(df[\"y_i\"], sm.add_constant(df[\"x_i\"]))   # Prepend a column of 1s to the \"x_i\" column.\n",
    "results = model.fit()"
   ]
  },
  {
   "cell_type": "markdown",
   "id": "0e7b010b-bd9f-4e89-840a-0d04293ac4f3",
   "metadata": {},
   "source": [
    "*Note* (not important): this column of 1s is necessary because we are trying to fit a nonhomogenous linear equation. A polynomial is **homogeneous** if each term has the same degree: $x^2 + y^2$ is homogeneous while $x^2 + x + 1$ is not. By including a column of 1s, we are fitting a line of the form $y = b_0x_0 + b_1x_1$ and *then* setting $x_0=1$ and $x_1=x$."
   ]
  },
  {
   "cell_type": "markdown",
   "id": "86ead9d3-fc1c-4aaf-a97d-385c48849718",
   "metadata": {},
   "source": [
    "We can view these results, which will give much more information than we want:"
   ]
  },
  {
   "cell_type": "code",
   "execution_count": null,
   "id": "58ae43ea-3b65-42a9-8285-65f72ea5b3b2",
   "metadata": {},
   "outputs": [],
   "source": [
    "print(results.summary(slim=True))"
   ]
  }
 ],
 "metadata": {
  "kernelspec": {
   "display_name": "Python 3 (ipykernel)",
   "language": "python",
   "name": "python3"
  },
  "language_info": {
   "codemirror_mode": {
    "name": "ipython",
    "version": 3
   },
   "file_extension": ".py",
   "mimetype": "text/x-python",
   "name": "python",
   "nbconvert_exporter": "python",
   "pygments_lexer": "ipython3",
   "version": "3.11.3"
  }
 },
 "nbformat": 4,
 "nbformat_minor": 5
}
